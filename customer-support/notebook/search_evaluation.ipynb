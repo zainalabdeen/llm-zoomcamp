{
 "cells": [
  {
   "cell_type": "code",
   "execution_count": 1,
   "id": "d97d12f3",
   "metadata": {},
   "outputs": [],
   "source": [
    "import os\n",
    "import argparse\n",
    "from typing import List, Dict, Tuple\n",
    "import pandas as pd\n",
    "import numpy as np\n",
    "from dataclasses import dataclass"
   ]
  },
  {
   "cell_type": "code",
   "execution_count": 2,
   "id": "83b2e00e",
   "metadata": {},
   "outputs": [],
   "source": [
    "# LlamaIndex / retrieval\n",
    "from llama_index.core.schema import NodeWithScore, TextNode\n",
    "from llama_index.core import VectorStoreIndex, StorageContext\n",
    "# Qdrant + BM25\n",
    "from rank_bm25 import BM25Okapi"
   ]
  },
  {
   "cell_type": "code",
   "execution_count": 1,
   "id": "65b08017",
   "metadata": {},
   "outputs": [],
   "source": [
    "import sys\n",
    "sys.path.insert(0, \"../\")\n",
    "from search_process import prepare_search,as_results,dedup_exact_question,CorpusItem,build_reranker"
   ]
  },
  {
   "cell_type": "code",
   "execution_count": 8,
   "id": "278415a7",
   "metadata": {},
   "outputs": [],
   "source": [
    "K = 5  # we’ll evaluate @5 as requested\n",
    "# knobs\n",
    "VEC_TOP_K = max(12, K)      # gather more for better recall\n",
    "BM25_TOP_K = max(12, K)\n",
    "RERANK_TOP_N = max(8, K)\n",
    "FINAL_TOP_N = K  "
   ]
  },
  {
   "cell_type": "markdown",
   "id": "3dab626b",
   "metadata": {},
   "source": [
    "# -----------------------------\n",
    "# Retrieval modes\n",
    "# -----------------------------"
   ]
  },
  {
   "cell_type": "code",
   "execution_count": 9,
   "id": "466a3beb",
   "metadata": {},
   "outputs": [],
   "source": [
    "def retrieve_vector_only(index: VectorStoreIndex, query: str) -> List[Dict]:\n",
    "    retriever = index.as_retriever(similarity_top_k=VEC_TOP_K)\n",
    "    nodes = retriever.retrieve(query)\n",
    "    # no rerank, no bm25\n",
    "    rows = as_results(nodes)\n",
    "    return dedup_exact_question(rows)"
   ]
  },
  {
   "cell_type": "code",
   "execution_count": 12,
   "id": "46571582",
   "metadata": {},
   "outputs": [],
   "source": [
    "def retrieve_hybrid(index: VectorStoreIndex, bm25: BM25Okapi, corpus: Dict[str, CorpusItem], query: str) -> List[Dict]:\n",
    "    # vector\n",
    "    v_nodes = index.as_retriever(similarity_top_k=VEC_TOP_K).retrieve(query)\n",
    "    # bm25\n",
    "    scores = bm25.get_scores(query.lower().split())\n",
    "    # map indices to doc_ids (BM25 insertion order matches corpus order)\n",
    "    doc_ids = list(corpus.keys())\n",
    "    ranked = sorted(enumerate(scores), key=lambda x: x[1], reverse=True)[:BM25_TOP_K]\n",
    "    b_nodes: List[NodeWithScore] = []\n",
    "    for idx, sc in ranked:\n",
    "        did = doc_ids[idx]\n",
    "        item = corpus[did]\n",
    "        b_nodes.append(NodeWithScore(node=TextNode(id_=did, text=item.text, metadata=item.metadata), score=float(sc)))\n",
    "\n",
    "    # simple union by doc_id, keep higher score\n",
    "    merged: Dict[str, NodeWithScore] = {}\n",
    "    for n in v_nodes + b_nodes:\n",
    "        did = n.metadata.get(\"doc_id\") if n.metadata else n.node.node_id\n",
    "        if did not in merged or (merged[did].score or 0) < (n.score or 0):\n",
    "            merged[did] = n\n",
    "\n",
    "    rows = as_results(list(merged.values()))\n",
    "    return dedup_exact_question(rows)"
   ]
  },
  {
   "cell_type": "code",
   "execution_count": 13,
   "id": "dbe9b8bd",
   "metadata": {},
   "outputs": [],
   "source": [
    "\n",
    "def retrieve_hybrid_rerank(index: VectorStoreIndex, bm25: BM25Okapi, corpus: Dict[str, CorpusItem], query: str) -> List[Dict]:\n",
    "    # stage 1: gather candidates (same as hybrid)\n",
    "    v_nodes = index.as_retriever(similarity_top_k=VEC_TOP_K).retrieve(query)\n",
    "\n",
    "    scores = bm25.get_scores(query.lower().split())\n",
    "    doc_ids = list(corpus.keys())\n",
    "    ranked = sorted(enumerate(scores), key=lambda x: x[1], reverse=True)[:BM25_TOP_K]\n",
    "    b_nodes: List[NodeWithScore] = []\n",
    "    for idx, sc in ranked:\n",
    "        did = doc_ids[idx]\n",
    "        item = corpus[did]\n",
    "        b_nodes.append(NodeWithScore(node=TextNode(id_=did, text=item.text, metadata=item.metadata), score=float(sc)))\n",
    "\n",
    "    # merge by doc_id\n",
    "    merged: Dict[str, NodeWithScore] = {}\n",
    "    for n in v_nodes + b_nodes:\n",
    "        did = n.metadata.get(\"doc_id\") if n.metadata else n.node.node_id\n",
    "        if did not in merged or (merged[did].score or 0) < (n.score or 0):\n",
    "            merged[did] = n\n",
    "\n",
    "    # stage 2: rerank with cross-encoder\n",
    "    reranker = build_reranker()\n",
    "    reranked = reranker.postprocess_nodes(list(merged.values()), query_str=query)\n",
    "\n",
    "    rows = as_results(reranked)\n",
    "    return dedup_exact_question(rows)"
   ]
  },
  {
   "cell_type": "markdown",
   "id": "32198aa3",
   "metadata": {},
   "source": [
    "# -----------------------------\n",
    "# Metrics\n",
    "# -----------------------------"
   ]
  },
  {
   "cell_type": "code",
   "execution_count": 14,
   "id": "f49a2435",
   "metadata": {},
   "outputs": [],
   "source": [
    "def normalized(s: str) -> str:\n",
    "    return (s or \"\").strip().lower()\n",
    "\n",
    "\n",
    "def hit_rate_at_k(expected: str, results: List[Dict]) -> int:\n",
    "    \"\"\"1 if any result's answer contains or equals expected (lenient), else 0.\"\"\"\n",
    "    e = normalized(expected)\n",
    "    for r in results:\n",
    "        a = normalized(r.get(\"answer\"))\n",
    "        # lenient containment match helps small wording differences\n",
    "        if e and (e == a or e in a or a in e):\n",
    "            return 1\n",
    "    return 0"
   ]
  },
  {
   "cell_type": "code",
   "execution_count": 15,
   "id": "0aad589c",
   "metadata": {},
   "outputs": [],
   "source": [
    "def mrr_at_k(expected: str, results: List[Dict]) -> float:\n",
    "    e = normalized(expected)\n",
    "    for i, r in enumerate(results, 1):\n",
    "        a = normalized(r.get(\"answer\"))\n",
    "        if e and (e == a or e in a or a in e):\n",
    "            return 1.0 / i\n",
    "    return 0.0"
   ]
  },
  {
   "cell_type": "code",
   "execution_count": 16,
   "id": "7a35fad2",
   "metadata": {},
   "outputs": [],
   "source": [
    "def evaluate(csv_path: str, index: VectorStoreIndex, bm25: BM25Okapi, corpus: Dict[str, CorpusItem]) -> pd.DataFrame:\n",
    "    df = pd.read_csv(csv_path)\n",
    "    rows = []\n",
    "\n",
    "    for _, row in df.iterrows():\n",
    "        q = str(row[\"question\"])\n",
    "        gt = str(row[\"expected_answer\"])\n",
    "\n",
    "        # Mode 1: vector\n",
    "        res_vec = retrieve_vector_only(index, q)\n",
    "        hr_vec = hit_rate_at_k(gt, res_vec)\n",
    "        mrr_vec = mrr_at_k(gt, res_vec)\n",
    "\n",
    "        # Mode 2: hybrid\n",
    "        res_hyb = retrieve_hybrid(index, bm25, corpus, q)\n",
    "        hr_hyb = hit_rate_at_k(gt, res_hyb)\n",
    "        mrr_hyb = mrr_at_k(gt, res_hyb)\n",
    "\n",
    "        # Mode 3: hybrid + rerank\n",
    "        res_rr = retrieve_hybrid_rerank(index, bm25, corpus, q)\n",
    "        hr_rr = hit_rate_at_k(gt, res_rr)\n",
    "        mrr_rr = mrr_at_k(gt, res_rr)\n",
    "\n",
    "        rows.append({\n",
    "            \"query\": q,\n",
    "            \"hit_vec@5\": hr_vec, \"mrr_vec@5\": mrr_vec,\n",
    "            \"hit_hybrid@5\": hr_hyb, \"mrr_hybrid@5\": mrr_hyb,\n",
    "            \"hit_hybrid_rerank@5\": hr_rr, \"mrr_hybrid_rerank@5\": mrr_rr,\n",
    "        })\n",
    "\n",
    "    out = pd.DataFrame(rows)\n",
    "    # summary\n",
    "    summary = pd.DataFrame({\n",
    "        \"mode\": [\"vector\", \"hybrid\", \"hybrid+rerank\"],\n",
    "        \"hit_rate@5\": [\n",
    "            out[\"hit_vec@5\"].mean(),\n",
    "            out[\"hit_hybrid@5\"].mean(),\n",
    "            out[\"hit_hybrid_rerank@5\"].mean(),\n",
    "        ],\n",
    "        \"mrr@5\": [\n",
    "            out[\"mrr_vec@5\"].mean(),\n",
    "            out[\"mrr_hybrid@5\"].mean(),\n",
    "            out[\"mrr_hybrid_rerank@5\"].mean(),\n",
    "        ],\n",
    "    })\n",
    "    return out, summary"
   ]
  },
  {
   "cell_type": "code",
   "execution_count": 17,
   "id": "ac30dfbf",
   "metadata": {},
   "outputs": [],
   "source": [
    "prepare_dict = prepare_search()"
   ]
  },
  {
   "cell_type": "code",
   "execution_count": 18,
   "id": "8dccb7ce",
   "metadata": {},
   "outputs": [],
   "source": [
    "index = prepare_dict['index']\n",
    "bm25 = prepare_dict['bm25']\n",
    "corpus = prepare_dict['corpus_items']"
   ]
  },
  {
   "cell_type": "code",
   "execution_count": null,
   "id": "86a12997",
   "metadata": {},
   "outputs": [],
   "source": [
    "per_query, summary = evaluate(\"../data/ground-truth-data.csv\", index, bm25, corpus)"
   ]
  },
  {
   "cell_type": "code",
   "execution_count": 23,
   "id": "d9494953",
   "metadata": {},
   "outputs": [
    {
     "data": {
      "text/html": [
       "<div>\n",
       "<style scoped>\n",
       "    .dataframe tbody tr th:only-of-type {\n",
       "        vertical-align: middle;\n",
       "    }\n",
       "\n",
       "    .dataframe tbody tr th {\n",
       "        vertical-align: top;\n",
       "    }\n",
       "\n",
       "    .dataframe thead th {\n",
       "        text-align: right;\n",
       "    }\n",
       "</style>\n",
       "<table border=\"1\" class=\"dataframe\">\n",
       "  <thead>\n",
       "    <tr style=\"text-align: right;\">\n",
       "      <th></th>\n",
       "      <th>mode</th>\n",
       "      <th>hit_rate@5</th>\n",
       "      <th>mrr@5</th>\n",
       "    </tr>\n",
       "  </thead>\n",
       "  <tbody>\n",
       "    <tr>\n",
       "      <th>0</th>\n",
       "      <td>vector</td>\n",
       "      <td>0.923596</td>\n",
       "      <td>0.823221</td>\n",
       "    </tr>\n",
       "    <tr>\n",
       "      <th>1</th>\n",
       "      <td>hybrid</td>\n",
       "      <td>0.937079</td>\n",
       "      <td>0.827041</td>\n",
       "    </tr>\n",
       "    <tr>\n",
       "      <th>2</th>\n",
       "      <td>hybrid+rerank</td>\n",
       "      <td>0.957303</td>\n",
       "      <td>0.838989</td>\n",
       "    </tr>\n",
       "  </tbody>\n",
       "</table>\n",
       "</div>"
      ],
      "text/plain": [
       "            mode  hit_rate@5     mrr@5\n",
       "0         vector    0.923596  0.823221\n",
       "1         hybrid    0.937079  0.827041\n",
       "2  hybrid+rerank    0.957303  0.838989"
      ]
     },
     "execution_count": 23,
     "metadata": {},
     "output_type": "execute_result"
    }
   ],
   "source": [
    "summary "
   ]
  },
  {
   "cell_type": "code",
   "execution_count": 24,
   "id": "f24ea1d4",
   "metadata": {},
   "outputs": [],
   "source": [
    "import matplotlib.pyplot as plt\n",
    "import numpy as np"
   ]
  },
  {
   "cell_type": "code",
   "execution_count": 25,
   "id": "0a89ad19",
   "metadata": {},
   "outputs": [],
   "source": [
    "def plot_metrics(summary_df):\n",
    "    \"\"\"\n",
    "    Plot Hit Rate and MRR for all retrieval modes side by side.\n",
    "    summary_df should be a pandas DataFrame like:\n",
    "    \n",
    "           mode  hit_rate@5   mrr@5\n",
    "    0     vector     0.73     0.52\n",
    "    1     hybrid     0.83     0.56\n",
    "    2 hybrid+rerank  0.85     0.63\n",
    "    \"\"\"\n",
    "\n",
    "    modes = summary_df[\"mode\"].tolist()\n",
    "    hit_rates = summary_df[\"hit_rate@5\"].tolist()\n",
    "    mrr_scores = summary_df[\"mrr@5\"].tolist()\n",
    "\n",
    "    x = np.arange(len(modes))\n",
    "    width = 0.35\n",
    "\n",
    "    plt.figure(figsize=(9, 5))\n",
    "    bars1 = plt.bar(x - width / 2, hit_rates, width, label=\"Hit Rate@5\", color=\"#007ACC\")\n",
    "    bars2 = plt.bar(x + width / 2, mrr_scores, width, label=\"MRR@5\", color=\"#FFB000\")\n",
    "\n",
    "    # Add value labels above bars\n",
    "    for bars in [bars1, bars2]:\n",
    "        for bar in bars:\n",
    "            yval = bar.get_height()\n",
    "            plt.text(\n",
    "                bar.get_x() + bar.get_width() / 2,\n",
    "                yval + 0.01,\n",
    "                f\"{yval:.2f}\",\n",
    "                ha=\"center\",\n",
    "                va=\"bottom\",\n",
    "                fontsize=9,\n",
    "                fontweight=\"bold\"\n",
    "            )\n",
    "\n",
    "    plt.ylabel(\"Score\")\n",
    "    plt.title(\"📊 Retrieval Performance Comparison (k=5)\")\n",
    "    plt.xticks(x, modes, fontsize=11)\n",
    "    plt.ylim(0, 1.05)\n",
    "    plt.legend()\n",
    "    plt.grid(axis=\"y\", linestyle=\"--\", alpha=0.6)\n",
    "    plt.tight_layout()\n",
    "    plt.show()"
   ]
  },
  {
   "cell_type": "code",
   "execution_count": 26,
   "id": "0e6650be",
   "metadata": {},
   "outputs": [
    {
     "name": "stderr",
     "output_type": "stream",
     "text": [
      "C:\\Users\\zaina\\AppData\\Local\\Temp\\ipykernel_41172\\1623574934.py:43: UserWarning: Glyph 128202 (\\N{BAR CHART}) missing from font(s) DejaVu Sans.\n",
      "  plt.tight_layout()\n",
      "C:\\Users\\zaina\\AppData\\Roaming\\Python\\Python313\\site-packages\\IPython\\core\\pylabtools.py:170: UserWarning: Glyph 128202 (\\N{BAR CHART}) missing from font(s) DejaVu Sans.\n",
      "  fig.canvas.print_figure(bytes_io, **kw)\n"
     ]
    },
    {
     "data": {
      "image/png": "[encoded data removed]",
      "text/plain": [
       "<Figure size 900x500 with 1 Axes>"
      ]
     },
     "metadata": {},
     "output_type": "display_data"
    }
   ],
   "source": [
    "plot_metrics(summary)"
   ]
  },
  {
   "cell_type": "code",
   "execution_count": null,
   "id": "6018df7b",
   "metadata": {},
   "outputs": [],
   "source": []
  }
 ],
 "metadata": {
  "kernelspec": {
   "display_name": "Python 3",
   "language": "python",
   "name": "python3"
  },
  "language_info": {
   "codemirror_mode": {
    "name": "ipython",
    "version": 3
   },
   "file_extension": ".py",
   "mimetype": "text/x-python",
   "name": "python",
   "nbconvert_exporter": "python",
   "pygments_lexer": "ipython3",
   "version": "3.13.2"
  }
 },
 "nbformat": 4,
 "nbformat_minor": 5
}
