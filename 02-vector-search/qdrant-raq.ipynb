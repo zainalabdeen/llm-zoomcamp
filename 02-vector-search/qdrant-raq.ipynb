{
 "cells": [
  {
   "cell_type": "code",
   "execution_count": 17,
   "id": "6c42625e-e6f0-4f99-a6d5-dfa43cf9640c",
   "metadata": {},
   "outputs": [],
   "source": [
    "from qdrant_client import QdrantClient, models\n",
    "import requests\n",
    "from fastembed import TextEmbedding\n",
    "import json\n",
    "import random\n",
    "from openai import OpenAI"
   ]
  },
  {
   "cell_type": "code",
   "execution_count": null,
   "id": "101c1f57-6fdc-4ae1-8ee5-1a19455d7cb3",
   "metadata": {},
   "outputs": [],
   "source": [
    "qdr_client = QdrantClient(\"http://localhost:6333\")\n",
    "openai_client = OpenAI()\n",
    "docs_url = 'https://github.com/alexeygrigorev/llm-rag-workshop/raw/main/notebooks/documents.json'\n",
    "docs_response = requests.get(docs_url)\n",
    "documents_raw = docs_response.json()"
   ]
  },
  {
   "cell_type": "code",
   "execution_count": 19,
   "id": "298d9f40",
   "metadata": {},
   "outputs": [],
   "source": [
    "documents = []\n",
    "\n",
    "for course in documents_raw:\n",
    "    course_name = course['course']\n",
    "    for doc in course['documents']:\n",
    "        doc['course'] = course_name\n",
    "        documents.append(doc)"
   ]
  },
  {
   "cell_type": "code",
   "execution_count": 20,
   "id": "587cb372",
   "metadata": {},
   "outputs": [],
   "source": [
    "def build_prompt(query, search_results):\n",
    "    prompt_template = \"\"\"\n",
    "You're a course teaching assistant. Answer the QUESTION based on the CONTEXT from the FAQ database.\n",
    "Use only the facts from the CONTEXT when answering the QUESTION.\n",
    "\n",
    "QUESTION: {question}\n",
    "\n",
    "CONTEXT: \n",
    "{context}\n",
    "\"\"\".strip()\n",
    "\n",
    "    context = \"\"\n",
    "    \n",
    "    for doc in search_results:\n",
    "        context = context + f\"section: {doc['section']}\\nquestion: {doc['question']}\\nanswer: {doc['text']}\\n\\n\"\n",
    "    \n",
    "    prompt = prompt_template.format(question=query, context=context).strip()\n",
    "    return prompt"
   ]
  },
  {
   "cell_type": "code",
   "execution_count": 21,
   "id": "7a0b64db",
   "metadata": {},
   "outputs": [],
   "source": [
    "def llm(prompt):\n",
    "    response = openai_client.chat.completions.create(\n",
    "        model='gpt-4o-mini',\n",
    "        messages=[{\"role\": \"user\", \"content\": prompt}]\n",
    "    )\n",
    "    \n",
    "    return response.choices[0].message.content"
   ]
  },
  {
   "cell_type": "code",
   "execution_count": 22,
   "id": "2eb8b1d8-4c52-40dc-8394-979e1f875176",
   "metadata": {},
   "outputs": [],
   "source": [
    "EMBEDDING_DIMENSIONALITY = 512\n",
    "model_handle = \"jinaai/jina-embeddings-v2-small-en\"\n",
    "collection_name = \"zoomcamp-rag\""
   ]
  },
  {
   "cell_type": "code",
   "execution_count": 23,
   "id": "a84db81f",
   "metadata": {},
   "outputs": [
    {
     "data": {
      "text/plain": [
       "True"
      ]
     },
     "execution_count": 23,
     "metadata": {},
     "output_type": "execute_result"
    }
   ],
   "source": [
    "qdr_client.delete_collection(collection_name)"
   ]
  },
  {
   "cell_type": "code",
   "execution_count": 24,
   "id": "6462cbc5-3d54-4667-aad3-c7f2d10bcb52",
   "metadata": {},
   "outputs": [
    {
     "data": {
      "text/plain": [
       "True"
      ]
     },
     "execution_count": 24,
     "metadata": {},
     "output_type": "execute_result"
    }
   ],
   "source": [
    "# Create the collection with specified vector parameters\n",
    "qdr_client.create_collection(\n",
    "    collection_name=collection_name,\n",
    "    vectors_config=models.VectorParams(\n",
    "        size=EMBEDDING_DIMENSIONALITY,  # Dimensionality of the vectors\n",
    "        distance=models.Distance.COSINE  # Distance metric for similarity search\n",
    "    )\n",
    ")"
   ]
  },
  {
   "cell_type": "code",
   "execution_count": 25,
   "id": "6f0c654c-e344-4a9a-bc74-afecdb621891",
   "metadata": {},
   "outputs": [
    {
     "data": {
      "text/plain": [
       "UpdateResult(operation_id=1, status=<UpdateStatus.COMPLETED: 'completed'>)"
      ]
     },
     "execution_count": 25,
     "metadata": {},
     "output_type": "execute_result"
    }
   ],
   "source": [
    "qdr_client.create_payload_index(\n",
    "    collection_name=collection_name,\n",
    "    field_name=\"course\",\n",
    "    field_schema=\"keyword\"\n",
    ")"
   ]
  },
  {
   "cell_type": "code",
   "execution_count": 26,
   "id": "a9395a35",
   "metadata": {},
   "outputs": [],
   "source": [
    "points = []\n",
    "\n",
    "for i, doc in enumerate(documents):\n",
    "    text = doc['question'] + ' ' + doc['text']\n",
    "    vector = models.Document(text=text, model=model_handle)\n",
    "    point = models.PointStruct(\n",
    "        id=i,\n",
    "        vector=vector,\n",
    "        payload=doc\n",
    "    )\n",
    "    points.append(point)"
   ]
  },
  {
   "cell_type": "code",
   "execution_count": 27,
   "id": "4dbf9ab3-b3e6-4d5b-86fd-c0c3dbc2ce25",
   "metadata": {
    "scrolled": true
   },
   "outputs": [
    {
     "data": {
      "text/plain": [
       "UpdateResult(operation_id=2, status=<UpdateStatus.COMPLETED: 'completed'>)"
      ]
     },
     "execution_count": 27,
     "metadata": {},
     "output_type": "execute_result"
    }
   ],
   "source": [
    "qdr_client.upsert(\n",
    "    collection_name=collection_name,\n",
    "    points=points\n",
    ")"
   ]
  },
  {
   "cell_type": "code",
   "execution_count": 30,
   "id": "8097df1d-ed32-4504-9534-515700f8f4ad",
   "metadata": {},
   "outputs": [],
   "source": [
    "def vector_search(query,course='data-engineering-zoomcamp', limit=3):\n",
    "    print('vector_search is used')\n",
    "    \n",
    "    query_points = qdr_client.query_points(\n",
    "        collection_name=collection_name,\n",
    "        query=models.Document(\n",
    "            text=query,\n",
    "            model=model_handle \n",
    "        ),\n",
    "        query_filter=models.Filter( \n",
    "            must=[\n",
    "                models.FieldCondition(\n",
    "                    key=\"course\",\n",
    "                    match=models.MatchValue(value=course)\n",
    "                )\n",
    "            ]\n",
    "        ),\n",
    "        limit=limit,\n",
    "        with_payload=True\n",
    "    )\n",
    "    \n",
    "    results = []\n",
    "    for point in query_points.points:\n",
    "        results.append(point.payload)\n",
    "    return results"
   ]
  },
  {
   "cell_type": "code",
   "execution_count": 33,
   "id": "b34c2040",
   "metadata": {},
   "outputs": [],
   "source": [
    "def rag(query):\n",
    "    search_results = vector_search(query)\n",
    "    prompt = build_prompt(query, search_results)\n",
    "    answer = llm(prompt)\n",
    "    return answer"
   ]
  },
  {
   "cell_type": "code",
   "execution_count": 34,
   "id": "71d2dbfe",
   "metadata": {},
   "outputs": [
    {
     "name": "stdout",
     "output_type": "stream",
     "text": [
      "vector_search is used\n"
     ]
    },
    {
     "data": {
      "text/plain": [
       "'To run Kafka, you can follow these steps based on the provided context:\\n\\n1. **Run the Producer:** In the project directory, execute the following command in your terminal to run the Kafka producer. Make sure to replace `<jar_name>` with the actual name of your jar file:\\n   ```\\n   java -cp build/libs/<jar_name>-1.0-SNAPSHOT.jar:out src/main/java/org/example/JsonProducer.java\\n   ```\\n\\n2. **Run the Consumer:** Similarly, if you want to run the Kafka consumer, you would execute:\\n   ```\\n   java -cp build/libs/<jar_name>-1.0-SNAPSHOT.jar:out src/main/java/org/example/JsonConsumer.java\\n   ```\\n\\n3. **Ensure Kafka Broker is Running:** Before running the producer or consumer, confirm that your Kafka broker is up and running. You can check this by executing `docker ps` in your terminal. If the Kafka broker is not running, navigate to the folder containing your docker compose YAML file and run:\\n   ```\\n   docker compose up -d\\n   ``` \\n\\nPlease make sure to check your Kafka configurations for any errors, such as ensuring the correct server URL is set in your scripts and updating your cluster key and secrets as necessary.'"
      ]
     },
     "execution_count": 34,
     "metadata": {},
     "output_type": "execute_result"
    }
   ],
   "source": [
    "rag('how do I run kafka?')"
   ]
  },
  {
   "cell_type": "code",
   "execution_count": 59,
   "id": "a5907ea0-6264-43c8-9284-4e29d2de02ec",
   "metadata": {},
   "outputs": [],
   "source": [
    "## Homework"
   ]
  },
  {
   "cell_type": "code",
   "execution_count": 85,
   "id": "7c480bf7-e288-48d6-9aa0-54103566c0a1",
   "metadata": {},
   "outputs": [],
   "source": [
    "query_embd = ['I just discovered the course. Can I join now?']"
   ]
  },
  {
   "cell_type": "code",
   "execution_count": 89,
   "id": "873eba8a-d370-4424-a10a-c031b3d69870",
   "metadata": {},
   "outputs": [],
   "source": [
    "model = TextEmbedding(model_name=model_handle)\n",
    "query_array_embd = model.embed(query_embd)\n",
    "query_embeddings = list(query_array_embd)"
   ]
  },
  {
   "cell_type": "code",
   "execution_count": 90,
   "id": "5a4e32aa-91c6-461d-bab0-42ba6fbc8518",
   "metadata": {},
   "outputs": [
    {
     "data": {
      "text/plain": [
       "-0.11726373885183883"
      ]
     },
     "execution_count": 90,
     "metadata": {},
     "output_type": "execute_result"
    }
   ],
   "source": [
    "min(list(query_embeddings[0]))"
   ]
  },
  {
   "cell_type": "code",
   "execution_count": 78,
   "id": "f2a1bbb8-0e38-45e3-a5d6-de1c6ef562a3",
   "metadata": {},
   "outputs": [],
   "source": [
    "import numpy as np"
   ]
  },
  {
   "cell_type": "code",
   "execution_count": 91,
   "id": "6e3b022a-a07a-488e-8518-51af0b4a7b29",
   "metadata": {},
   "outputs": [
    {
     "data": {
      "text/plain": [
       "1.0"
      ]
     },
     "execution_count": 91,
     "metadata": {},
     "output_type": "execute_result"
    }
   ],
   "source": [
    "np.linalg.norm(query_embeddings)"
   ]
  },
  {
   "cell_type": "code",
   "execution_count": 92,
   "id": "9066ca58-f67f-4e67-b4fa-2e6fe6b0be54",
   "metadata": {},
   "outputs": [
    {
     "data": {
      "text/plain": [
       "1.0000000000000002"
      ]
     },
     "execution_count": 92,
     "metadata": {},
     "output_type": "execute_result"
    }
   ],
   "source": [
    "np.dot(query_embeddings[0],query_embeddings[0])"
   ]
  },
  {
   "cell_type": "code",
   "execution_count": 84,
   "id": "8e627afc-5fc5-4fd9-b9ba-b31d7a0b2c18",
   "metadata": {},
   "outputs": [],
   "source": [
    "doc = 'Can I still join the course after the start date?'"
   ]
  },
  {
   "cell_type": "code",
   "execution_count": 93,
   "id": "677dfbf5-d755-4f59-a8a0-5c0c1908755f",
   "metadata": {},
   "outputs": [],
   "source": [
    "doc_array_embd = model.embed(doc)\n",
    "doc_embeddings = list(doc_array_embd)"
   ]
  },
  {
   "cell_type": "code",
   "execution_count": 94,
   "id": "4361229e-c459-42ae-99da-4d988a4800ec",
   "metadata": {},
   "outputs": [
    {
     "data": {
      "text/plain": [
       "0.9008528895674548"
      ]
     },
     "execution_count": 94,
     "metadata": {},
     "output_type": "execute_result"
    }
   ],
   "source": [
    "np.dot(query_embeddings[0],doc_embeddings[0])"
   ]
  },
  {
   "cell_type": "code",
   "execution_count": 96,
   "id": "338fc272-6aab-482e-8531-346f435835e0",
   "metadata": {},
   "outputs": [
    {
     "data": {
      "text/plain": [
       "0.9008528895674548"
      ]
     },
     "execution_count": 96,
     "metadata": {},
     "output_type": "execute_result"
    }
   ],
   "source": [
    "query_embeddings[0].dot(doc_embeddings[0])"
   ]
  },
  {
   "cell_type": "code",
   "execution_count": 95,
   "id": "a73484a0-f9f5-45e4-8f3f-aacceb97b591",
   "metadata": {},
   "outputs": [],
   "source": [
    "documents = [{'text': \"Yes, even if you don't register, you're still eligible to submit the homeworks.\\nBe aware, however, that there will be deadlines for turning in the final projects. So don't leave everything for the last minute.\",\n",
    "  'section': 'General course-related questions',\n",
    "  'question': 'Course - Can I still join the course after the start date?',\n",
    "  'course': 'data-engineering-zoomcamp'},\n",
    " {'text': 'Yes, we will keep all the materials after the course finishes, so you can follow the course at your own pace after it finishes.\\nYou can also continue looking at the homeworks and continue preparing for the next cohort. I guess you can also start working on your final capstone project.',\n",
    "  'section': 'General course-related questions',\n",
    "  'question': 'Course - Can I follow the course after it finishes?',\n",
    "  'course': 'data-engineering-zoomcamp'},\n",
    " {'text': \"The purpose of this document is to capture frequently asked technical questions\\nThe exact day and hour of the course will be 15th Jan 2024 at 17h00. The course will start with the first  “Office Hours'' live.1\\nSubscribe to course public Google Calendar (it works from Desktop only).\\nRegister before the course starts using this link.\\nJoin the course Telegram channel with announcements.\\nDon’t forget to register in DataTalks.Club's Slack and join the channel.\",\n",
    "  'section': 'General course-related questions',\n",
    "  'question': 'Course - When will the course start?',\n",
    "  'course': 'data-engineering-zoomcamp'},\n",
    " {'text': 'You can start by installing and setting up all the dependencies and requirements:\\nGoogle cloud account\\nGoogle Cloud SDK\\nPython 3 (installed with Anaconda)\\nTerraform\\nGit\\nLook over the prerequisites and syllabus to see if you are comfortable with these subjects.',\n",
    "  'section': 'General course-related questions',\n",
    "  'question': 'Course - What can I do before the course starts?',\n",
    "  'course': 'data-engineering-zoomcamp'},\n",
    " {'text': 'Star the repo! Share it with friends if you find it useful ❣️\\nCreate a PR if you see you can improve the text or the structure of the repository.',\n",
    "  'section': 'General course-related questions',\n",
    "  'question': 'How can we contribute to the course?',\n",
    "  'course': 'data-engineering-zoomcamp'}]"
   ]
  },
  {
   "cell_type": "code",
   "execution_count": 97,
   "id": "b027dae1-7f23-4441-86a2-66a51f9c6c08",
   "metadata": {},
   "outputs": [],
   "source": [
    "text_embeddings = []"
   ]
  },
  {
   "cell_type": "code",
   "execution_count": 98,
   "id": "8cad931a-1d84-41e6-b4b7-ae004c4fd496",
   "metadata": {},
   "outputs": [],
   "source": [
    "for doc in documents:\n",
    "    array_embd = model.embed(doc['text'])\n",
    "    embeddings = list(array_embd)\n",
    "    text_embeddings.extend(embeddings)"
   ]
  },
  {
   "cell_type": "code",
   "execution_count": 101,
   "id": "a0900deb-ad29-4e35-9279-06709e15a956",
   "metadata": {},
   "outputs": [
    {
     "data": {
      "text/plain": [
       "[array([-2.49525006e-02, -3.96454034e-02, -4.37672429e-03,  2.95830380e-02,\n",
       "        -1.20300744e-02, -6.93249608e-03, -7.65465072e-05,  6.15121401e-02,\n",
       "        -2.85105823e-02, -6.70960944e-02,  6.53191995e-03, -5.09575722e-02,\n",
       "        -5.01244174e-02, -5.83276165e-02,  9.54578951e-02, -5.41039925e-02,\n",
       "        -3.20385860e-02, -4.69560323e-02, -6.16868024e-02, -9.03934389e-02,\n",
       "        -3.35349282e-02, -2.90533971e-02,  4.44972092e-02, -7.00045540e-02,\n",
       "         4.27595264e-02, -7.01989178e-02, -8.68037276e-02,  8.14205881e-02,\n",
       "         7.21879907e-02,  1.89472918e-02, -5.95576718e-02,  1.09493119e-02,\n",
       "        -1.80511540e-02,  4.60817619e-02, -2.97588624e-02,  3.45792057e-02,\n",
       "         4.05221611e-02,  1.75949846e-02, -2.77041533e-02, -1.67211727e-02,\n",
       "        -5.02859986e-02,  1.34971538e-02,  9.17410131e-02,  8.32858616e-03,\n",
       "        -7.49552827e-02,  2.35092282e-03, -4.66536576e-02,  1.29560582e-02,\n",
       "         2.57738903e-02,  5.87156475e-03, -4.75062527e-02,  1.41338343e-02,\n",
       "        -1.04994578e-01,  3.11794621e-02, -2.95149352e-02,  6.34093074e-02,\n",
       "        -1.24284585e-02,  2.90351937e-02, -2.46787151e-02,  6.55304185e-03,\n",
       "        -1.68995243e-03,  4.80684234e-02, -4.51916045e-02,  6.58819784e-02,\n",
       "         7.00396053e-04, -4.69433157e-02, -6.43933291e-03, -2.25007812e-02,\n",
       "        -1.10230512e-01,  3.24905320e-02, -1.06157841e-01,  3.01565376e-02,\n",
       "         6.31633066e-02, -2.20973841e-02,  9.88979716e-03,  4.05925923e-02,\n",
       "        -2.07781818e-02,  9.56693668e-02,  9.51992818e-03, -4.69069315e-02,\n",
       "        -1.36889787e-02,  3.03758338e-02, -1.49315478e-02, -2.85964296e-02,\n",
       "         2.64041912e-02, -3.48300311e-02,  5.55306689e-02,  1.90072146e-02,\n",
       "         6.33452287e-02,  1.67940309e-03, -2.01935460e-02,  5.41742373e-02,\n",
       "        -2.28437854e-02, -6.23783536e-02, -3.56386634e-02, -6.80656306e-02,\n",
       "         2.01614503e-02,  5.59461973e-02,  3.19651170e-03,  3.62938348e-02,\n",
       "         3.08183911e-02,  3.09876593e-02,  7.49372153e-02, -2.43475815e-02,\n",
       "        -1.96969796e-02,  5.20851243e-02, -1.26038170e-02, -2.57033346e-02,\n",
       "        -7.71251136e-02,  9.94359387e-03, -1.95012930e-02, -2.68253591e-02,\n",
       "        -1.43555119e-02, -7.40898786e-03, -4.79805252e-02, -1.26303929e-02,\n",
       "         7.39297583e-02, -8.21491860e-02, -2.26522519e-02, -6.01796488e-02,\n",
       "         3.84228159e-02, -3.43160468e-02, -2.12085078e-02,  4.19885207e-02,\n",
       "         3.42458774e-02,  7.07778156e-02, -2.99058590e-02,  3.79814020e-02,\n",
       "        -3.89880577e-02,  4.02846037e-02, -1.62018134e-02,  2.62801776e-02,\n",
       "        -5.73021711e-02,  2.72761126e-02,  9.68898911e-02, -4.49184473e-02,\n",
       "         4.90527972e-02,  2.51066612e-02, -9.33654320e-02,  8.21806753e-02,\n",
       "        -6.66618806e-02, -3.39176374e-02,  3.24487250e-02, -3.82466143e-02,\n",
       "         1.93271956e-02, -1.70446600e-02,  3.98388283e-02, -2.25078770e-03,\n",
       "        -3.62493960e-02,  2.26227377e-02, -5.73116313e-03,  5.43908870e-02,\n",
       "        -9.93269366e-02,  1.53953343e-02,  8.56150968e-03,  7.29667867e-02,\n",
       "        -2.22878909e-02,  6.27430056e-02,  2.87470250e-02, -2.10116823e-02,\n",
       "        -4.62630459e-02,  7.67565215e-02,  1.63145202e-02, -3.82640964e-02,\n",
       "         3.10799981e-02,  5.42091143e-03,  4.02620001e-02,  7.70645701e-02,\n",
       "        -3.44779670e-02, -5.26298029e-03,  5.36118862e-02,  4.13963051e-02,\n",
       "        -8.07583890e-02, -9.42081750e-03, -6.42448685e-02, -5.21088335e-02,\n",
       "        -4.05157970e-02,  7.98453310e-03, -4.60520129e-02, -2.06099282e-02,\n",
       "        -1.14697091e-02, -3.11620033e-02, -2.76281664e-02,  2.54536881e-02,\n",
       "        -4.34000715e-03, -8.39185164e-02, -2.10335741e-02, -1.49273285e-02,\n",
       "         3.97262118e-02, -1.63307811e-03, -1.42367802e-02, -3.98521941e-02,\n",
       "        -1.00168953e-02, -3.73512846e-02, -1.66033568e-02,  6.42627484e-02,\n",
       "        -7.36483140e-02,  7.98798482e-02, -2.60072615e-02,  4.69459784e-02,\n",
       "         3.98054239e-03,  6.69968511e-02,  2.72624925e-03,  3.93753736e-02,\n",
       "        -3.76759116e-02,  6.01635508e-02, -5.97494666e-03, -4.90945999e-02,\n",
       "        -5.34319760e-02,  1.64675468e-02,  1.28938641e-02,  1.98712997e-02,\n",
       "         6.90621995e-02, -5.18372081e-03, -1.05207708e-02, -7.22551762e-02,\n",
       "         2.61904414e-02, -5.81773543e-02,  2.09342529e-03, -1.63825618e-02,\n",
       "         6.17105740e-03,  1.11119662e-02,  2.85045607e-02,  4.71681957e-02,\n",
       "        -6.93984260e-03, -5.71424237e-02,  3.29435563e-02, -1.12917436e-02,\n",
       "        -1.90759020e-03, -8.25948368e-03,  5.00357743e-02, -1.00278863e-01,\n",
       "        -6.32024295e-02,  3.82550517e-02,  2.25181833e-02, -3.03839466e-02,\n",
       "        -1.91192263e-02, -4.46531572e-02, -8.01179409e-02, -2.83070381e-02,\n",
       "        -2.27457300e-02,  3.81720006e-02,  8.93588812e-02,  7.09762814e-03,\n",
       "         2.67056681e-03,  5.36721526e-02,  1.68740614e-02, -4.37332238e-02,\n",
       "         5.70173363e-02,  4.58368776e-02, -3.90734598e-02, -6.23173951e-02,\n",
       "        -6.56968505e-02, -8.45959368e-02, -1.33052746e-02,  2.61626443e-02,\n",
       "         1.52438431e-02,  9.19084023e-02, -6.49362917e-02, -1.62219040e-02,\n",
       "         1.76948977e-02,  6.41594009e-02, -6.35643704e-03,  8.74327647e-02,\n",
       "         6.66945443e-03,  8.13123315e-03, -7.93405319e-02,  8.34738595e-03,\n",
       "         3.06505164e-02,  9.56994376e-03,  2.73267495e-02,  1.33200750e-02,\n",
       "         8.60827523e-04, -9.95661059e-03, -3.78368032e-02, -5.14698347e-02,\n",
       "         1.08051763e-01,  5.56853610e-02,  6.33920006e-02, -2.59789407e-02,\n",
       "        -5.73461093e-02,  5.20600931e-04,  3.31491893e-02, -1.81748553e-02,\n",
       "         3.47882799e-02, -6.76138562e-03, -8.92770768e-03,  4.13499109e-02,\n",
       "         9.55041442e-02, -1.95064024e-02,  4.20649876e-02, -9.18332411e-02,\n",
       "         9.37292178e-03, -2.08211582e-02,  1.65588006e-03,  7.41815046e-02,\n",
       "         2.16354377e-02,  2.66627212e-02,  1.52442724e-02, -2.06994084e-02,\n",
       "         1.40646074e-02,  1.65869328e-02, -3.66870879e-02, -6.19546822e-02,\n",
       "        -6.12586193e-03, -2.80570967e-03,  9.53103237e-02, -1.83015717e-02,\n",
       "        -3.87967125e-02, -3.13510539e-02,  1.05982951e-02, -2.02503206e-02,\n",
       "         1.13648793e-02,  3.27747811e-02,  6.48231701e-02,  2.94341611e-02,\n",
       "         3.49492396e-02, -1.00521023e-01, -6.61794120e-02, -2.76884321e-03,\n",
       "        -2.85180608e-02, -5.42814567e-02,  6.09810190e-02,  3.91008600e-02,\n",
       "         1.54357856e-02,  7.36960309e-02, -6.70186377e-02,  1.22541982e-02,\n",
       "        -2.35189367e-02, -5.81971354e-02, -4.48201057e-02, -3.76954708e-02,\n",
       "        -5.01813062e-02, -4.53891546e-02, -4.52844553e-02, -1.61542683e-03,\n",
       "         1.71835200e-02, -4.81535066e-02,  3.70457730e-02, -2.88891346e-02,\n",
       "         3.05817788e-02, -2.28462263e-02, -1.53604981e-02,  8.87899180e-02,\n",
       "        -1.67036203e-02, -3.34208337e-02,  2.59578852e-02, -1.45581393e-02,\n",
       "        -8.59615178e-02,  5.54591082e-03,  2.68863605e-03, -7.80609351e-03,\n",
       "        -5.10162748e-03, -4.86788636e-03, -4.22053756e-02,  1.02609859e-02,\n",
       "        -6.50612346e-03,  7.42837556e-03, -3.30172087e-02,  9.76759584e-02,\n",
       "         8.70862629e-03, -3.90797443e-02,  3.88848675e-03,  3.92356797e-02,\n",
       "         6.60301404e-02, -4.24690514e-02, -3.09520394e-02, -3.83478556e-02,\n",
       "         4.43094959e-02,  5.57514018e-02,  4.41927743e-02, -3.67894053e-03,\n",
       "         3.02639652e-02, -3.09460385e-02, -1.08525618e-02,  1.06628376e-02,\n",
       "         4.54128673e-02, -2.84336603e-02,  2.03537285e-03, -3.77236095e-02,\n",
       "         5.58014847e-03,  6.32470234e-02, -2.26235454e-02, -4.14227900e-02,\n",
       "        -2.34850093e-02,  2.36897815e-02,  3.15625955e-02,  7.91887103e-03,\n",
       "        -2.56884406e-02, -3.04316964e-02, -5.10523754e-02, -5.93238331e-03,\n",
       "        -3.21540401e-02,  2.70332573e-02,  5.81391784e-02, -5.73720792e-02,\n",
       "         8.70571721e-02,  6.62527634e-02, -2.02879006e-02,  3.02357662e-02,\n",
       "        -3.50191943e-03,  1.14754433e-02, -1.07715889e-02, -3.68886394e-02,\n",
       "        -1.09061698e-03, -5.55207291e-02, -4.83468267e-02, -7.33991341e-03,\n",
       "         5.82795525e-02,  3.02933000e-02,  6.72381524e-02,  1.46779273e-02,\n",
       "        -3.52165937e-02,  8.42898149e-02,  1.43811555e-02, -7.76935680e-03,\n",
       "        -2.76654907e-02, -4.12417852e-02, -1.41328046e-02,  1.63667940e-02,\n",
       "         5.22972083e-02,  1.20667265e-02, -3.13938160e-02,  2.77635878e-02,\n",
       "         8.67898067e-03,  5.53487976e-03,  2.91790352e-02, -9.84871993e-03,\n",
       "         6.50359284e-02,  3.88990109e-02,  1.15220105e-02, -6.02516397e-02,\n",
       "        -2.56772424e-02,  3.21251149e-02, -2.23927958e-02,  1.88467872e-02,\n",
       "        -1.35301078e-02, -6.60444755e-02,  3.79965787e-02, -1.05793240e-02,\n",
       "         6.59059605e-02, -7.22683903e-02, -3.69925394e-02,  1.26261161e-02,\n",
       "         1.14284608e-01,  7.22161583e-02, -5.17494494e-03, -2.91729260e-02,\n",
       "         6.88083093e-03, -2.27482313e-03,  6.94501136e-02,  6.50039361e-02,\n",
       "        -3.64434834e-02,  4.07203001e-02, -2.73652271e-02,  2.63138705e-02,\n",
       "        -1.22057408e-02, -8.95804354e-02,  4.37268127e-02,  4.03121166e-02,\n",
       "         6.17728732e-02, -9.31803077e-03, -4.32174381e-02,  3.37063251e-02,\n",
       "         1.55165189e-02, -1.43966865e-02,  1.45346646e-02,  2.46059628e-02,\n",
       "         2.34428899e-02,  2.20742855e-03,  1.61149287e-03, -8.27405975e-02,\n",
       "         1.25901800e-03,  5.47539043e-02,  9.15989983e-02,  6.83787264e-02,\n",
       "         5.16454191e-02,  2.96452166e-02, -6.13902417e-02,  2.06085913e-02,\n",
       "        -1.14913402e-02, -8.44790239e-02, -6.24263428e-02, -4.74598495e-02,\n",
       "        -6.23703734e-02,  3.08909108e-03,  1.35922985e-03,  1.58328056e-02,\n",
       "         8.36666765e-02,  5.04772558e-02, -6.41411711e-02, -6.01873012e-03,\n",
       "        -4.50991734e-02, -5.95417840e-02, -2.28240057e-02,  5.72776007e-02,\n",
       "         4.53418701e-02, -2.65259016e-02,  5.50672724e-02,  2.23214831e-02,\n",
       "         4.54755774e-02, -2.05099660e-02,  1.77615687e-02,  3.33318598e-02,\n",
       "         2.18547339e-02,  5.79627101e-03,  1.13003984e-03, -4.36775901e-02,\n",
       "        -4.87744254e-02,  6.77986615e-02,  3.77202966e-02, -4.70724316e-03]),\n",
       " array([-5.94708973e-02, -8.52398425e-02,  1.29209056e-02,  2.85127455e-02,\n",
       "        -2.81620099e-02, -4.00051295e-02,  8.41698846e-03,  5.18212412e-02,\n",
       "        -2.69583362e-02, -1.12391692e-02,  5.32035710e-03, -6.33662038e-02,\n",
       "         1.48323663e-02, -9.49182622e-02,  4.22562146e-02, -4.50516086e-02,\n",
       "        -1.75002546e-03, -3.34010955e-02, -6.47218991e-02, -3.76348355e-02,\n",
       "        -5.90905453e-02, -2.30757924e-03,  5.55123849e-02, -1.86413026e-02,\n",
       "         9.81354317e-02, -5.90813436e-02, -5.68412141e-02,  7.47307874e-02,\n",
       "         4.79644226e-02,  2.80641069e-02, -4.11406941e-02,  6.56923049e-02,\n",
       "        -1.19135965e-02,  8.64348181e-03, -2.50803741e-02, -1.21391714e-02,\n",
       "         3.34813327e-02,  2.14199171e-02, -3.22474729e-02, -6.46336212e-02,\n",
       "        -3.22578088e-02,  1.90043656e-02,  1.10666275e-01,  5.28780880e-02,\n",
       "        -4.21155492e-02, -6.66982147e-03, -9.01822914e-02,  4.53358352e-02,\n",
       "         1.17063559e-02,  1.99598421e-02, -4.80498431e-02,  1.26673297e-02,\n",
       "        -4.87367368e-02,  7.22050828e-02,  2.32543900e-03,  5.16776894e-02,\n",
       "        -1.49317553e-02,  1.59650397e-02, -5.51563414e-02,  3.07621622e-02,\n",
       "         2.28699720e-02,  2.03790453e-02, -8.31742430e-02,  5.72252801e-02,\n",
       "        -1.41603677e-02, -4.16987783e-02, -4.19212944e-02, -2.56013505e-02,\n",
       "        -1.18099800e-01,  3.53557627e-02, -9.36614652e-02,  2.42008964e-04,\n",
       "         1.02392409e-01, -5.88655958e-02,  2.23627312e-02,  4.84866470e-02,\n",
       "        -2.78989691e-02,  8.17848645e-02,  1.30248027e-02, -3.80606973e-02,\n",
       "        -4.73054602e-02,  2.80594726e-02,  2.03549137e-03,  1.14976047e-02,\n",
       "         3.07260841e-02, -5.65694179e-02,  3.22207506e-02, -1.27871463e-03,\n",
       "         3.71740563e-02, -3.66185891e-02,  5.86293180e-03,  2.34820722e-02,\n",
       "        -5.48725307e-03, -5.15154375e-02, -2.31784080e-03, -4.99739246e-02,\n",
       "         4.55969309e-02,  4.33115074e-02,  2.08856269e-02,  3.46055837e-02,\n",
       "         7.44276411e-02, -1.70784151e-02,  9.31390952e-02, -9.86560781e-03,\n",
       "         5.29416923e-02,  7.63659827e-02, -5.89638892e-02,  1.64417851e-02,\n",
       "        -9.35918919e-02, -2.87713539e-02,  1.14369273e-02, -3.50798764e-02,\n",
       "        -4.39032278e-02,  1.77095963e-02, -2.47668223e-02, -2.26293851e-03,\n",
       "         2.34269458e-02, -5.66857617e-02, -4.62485187e-02, -5.30621354e-02,\n",
       "         1.20526097e-02,  5.47187130e-04, -1.05366614e-02,  6.51065987e-02,\n",
       "         4.77163689e-02,  8.65348809e-02, -5.66336368e-03,  6.86761600e-02,\n",
       "        -8.65994012e-02,  9.64659846e-03, -6.67995437e-03, -3.91858392e-03,\n",
       "         1.75577789e-02,  2.94248196e-03,  1.02912962e-01, -2.60147476e-02,\n",
       "         5.86723428e-02,  2.61485523e-02, -6.26115749e-02,  4.18510981e-02,\n",
       "        -7.57565755e-02, -3.54145593e-02,  3.38389183e-03, -3.45044265e-02,\n",
       "         1.29712205e-02,  1.56782081e-02,  3.63825282e-02,  1.57813528e-03,\n",
       "        -6.65313446e-02,  4.38759821e-03, -4.21984855e-02, -9.49460408e-06,\n",
       "        -5.47843308e-02,  2.91513211e-02, -2.12027029e-03,  8.21646700e-02,\n",
       "        -5.21214395e-02,  1.90297908e-02,  2.16999983e-02,  1.08371216e-02,\n",
       "        -1.07810153e-02,  5.35873653e-02, -3.68221482e-03, -4.31648473e-02,\n",
       "         4.95076689e-03,  2.51196488e-02,  5.60493328e-02,  8.67892279e-02,\n",
       "        -4.47246509e-02, -8.21474110e-03,  7.55481521e-02, -1.85036746e-02,\n",
       "        -8.32428393e-02, -2.78574987e-02, -6.97757268e-02,  5.80174604e-03,\n",
       "        -6.23383346e-02,  5.55315141e-02, -3.16922110e-02, -1.70615026e-02,\n",
       "         2.53935548e-02, -5.29853347e-02, -1.30931981e-02,  2.03430707e-02,\n",
       "         2.43457159e-02, -4.54825488e-02,  1.10820442e-02,  2.26041967e-02,\n",
       "         4.37050490e-02, -2.19859297e-03, -5.65829013e-03, -8.00530333e-03,\n",
       "        -1.88089395e-02, -1.16305891e-02, -2.75127535e-03,  7.69495218e-02,\n",
       "        -5.08921120e-02,  4.77470596e-02, -2.32284260e-02,  1.51085534e-02,\n",
       "         3.94802886e-02,  5.02895391e-02, -3.33834569e-02,  3.19615627e-02,\n",
       "        -6.01037829e-02,  2.49822407e-02, -2.35336922e-02, -3.00276322e-02,\n",
       "        -2.11867013e-02,  2.05174998e-02,  2.66003111e-02,  1.60140632e-03,\n",
       "         2.21304535e-02,  7.09909377e-03, -1.49671951e-02, -3.15397710e-02,\n",
       "        -1.98861113e-02, -3.26342863e-02, -3.55963485e-03, -2.90582237e-02,\n",
       "         1.12712230e-02,  2.81928187e-02, -1.91837395e-02,  3.34501446e-02,\n",
       "        -2.66875991e-02, -4.90217901e-02,  1.58122963e-02, -1.52897598e-02,\n",
       "         7.72081356e-04, -2.50856911e-02,  6.09905330e-02, -9.32939109e-02,\n",
       "        -4.81041281e-02,  5.50462332e-02,  5.24345587e-02, -1.11400958e-02,\n",
       "        -1.86482484e-02, -4.55220877e-02, -3.45495368e-02, -4.69063684e-02,\n",
       "        -1.19895447e-02,  3.15936503e-02,  8.56505160e-02, -1.03563485e-02,\n",
       "        -1.97598428e-02,  5.40904514e-02,  4.39469740e-02, -4.41497432e-02,\n",
       "         3.67984282e-02,  8.74286446e-02, -2.11171873e-02, -6.96089707e-02,\n",
       "        -6.69081579e-02, -1.20072462e-01, -1.49656507e-02,  6.60612436e-02,\n",
       "         1.10000723e-02,  7.25453427e-02, -6.20383657e-02, -4.74120962e-02,\n",
       "        -2.60628681e-02,  6.83110661e-02,  2.28149269e-02,  6.22840445e-02,\n",
       "        -3.79403722e-02,  1.64428185e-02, -4.49169359e-02, -3.12007618e-02,\n",
       "         4.45705416e-02,  4.80433908e-02,  3.54169413e-02,  1.41306794e-02,\n",
       "         3.42647784e-02, -2.99640762e-02, -4.21983828e-02, -1.22710205e-02,\n",
       "         4.47191374e-02,  4.34417764e-02,  5.92644949e-02, -3.60951268e-02,\n",
       "        -3.16971284e-02,  9.47083411e-03, -1.44393297e-02, -6.39783354e-03,\n",
       "         6.44983701e-02, -2.40944236e-03,  6.77814295e-02,  4.99896838e-02,\n",
       "         1.11227371e-01, -2.24483638e-02,  5.67457158e-02, -8.36300588e-02,\n",
       "         1.59334660e-02, -6.17177153e-03,  9.84891545e-03,  6.78182194e-02,\n",
       "         6.83887212e-02,  1.33171681e-02, -1.92518553e-02,  1.10039689e-02,\n",
       "         1.24428661e-02,  3.68025701e-02, -3.73142299e-02, -5.47144864e-02,\n",
       "         5.51611934e-02, -4.29860853e-02,  9.58754426e-03, -5.73866318e-04,\n",
       "        -6.68692769e-03, -3.66051110e-02, -4.54792623e-04, -5.18431181e-02,\n",
       "        -1.46839496e-02, -3.36006144e-03,  4.04048162e-02,  3.08940531e-04,\n",
       "         3.85863088e-02, -8.06087577e-02, -2.00049903e-02, -8.89719908e-03,\n",
       "        -5.47538765e-02, -1.80012320e-02,  9.07140241e-02,  2.40219259e-02,\n",
       "        -7.80352445e-03,  4.71763996e-02, -7.47764010e-02, -3.21466354e-02,\n",
       "        -3.61699400e-02, -4.63310331e-02, -4.83467069e-02, -1.60896102e-02,\n",
       "        -3.38952254e-02, -8.00294219e-02, -7.65615502e-03,  3.12707978e-03,\n",
       "        -5.05957419e-02, -8.49503350e-02, -1.01413224e-02, -5.09991041e-02,\n",
       "         1.38713878e-02, -5.54646172e-03,  8.66859334e-04,  8.86328942e-02,\n",
       "         1.27759886e-02,  1.04846306e-02,  2.86203927e-02,  2.14691958e-02,\n",
       "        -6.02001525e-02, -1.30059020e-02,  5.04055624e-03, -2.89820726e-02,\n",
       "        -2.30707401e-02,  1.76980732e-02, -5.35674721e-02, -1.27967774e-02,\n",
       "        -2.37835443e-02, -1.67673111e-02,  1.85451789e-02,  9.52315352e-02,\n",
       "        -3.91003784e-03, -6.08355757e-02,  6.36272405e-03,  6.05250623e-02,\n",
       "         2.91617632e-02, -2.63238410e-02, -1.25483698e-02, -4.64105360e-04,\n",
       "         3.91678617e-02,  4.66344537e-02,  7.12440510e-02, -6.98261114e-04,\n",
       "         6.50094386e-02, -2.71824815e-02,  1.66610225e-02, -2.73003262e-02,\n",
       "         4.73248413e-02, -2.96156697e-02, -1.12533309e-02, -1.18321334e-02,\n",
       "         9.66979744e-03,  8.06954338e-02,  4.27959879e-03, -5.20505049e-02,\n",
       "        -1.59155747e-03,  3.08732148e-02,  1.06969995e-02, -3.40486883e-02,\n",
       "         2.89204137e-03, -1.00729976e-02, -3.62544892e-02, -4.11626184e-02,\n",
       "        -2.72429536e-02,  4.85513528e-02,  7.25055740e-02, -4.72987390e-02,\n",
       "         6.26313275e-02,  4.89857591e-02, -7.02846226e-03,  1.07515980e-02,\n",
       "        -6.98569507e-03,  3.37249352e-02, -3.51875003e-04, -3.14899139e-02,\n",
       "        -6.24438346e-03, -4.81802973e-02, -5.82760137e-02, -6.92276817e-03,\n",
       "         3.66197428e-02,  3.62655539e-02,  3.99210728e-02, -1.31376596e-02,\n",
       "        -1.97650949e-03,  5.12705839e-02, -1.77925558e-02, -1.83766981e-02,\n",
       "        -5.55063393e-02, -1.27577452e-02,  1.99476832e-02,  1.29376486e-02,\n",
       "         4.76893607e-02,  2.02460010e-02, -5.22880765e-02,  6.31789870e-04,\n",
       "         3.27804823e-02,  1.41794119e-02,  2.62807157e-02, -1.36328686e-02,\n",
       "         5.51902528e-02,  2.74437217e-02,  2.53457746e-02, -6.69363101e-02,\n",
       "        -4.05848609e-02,  3.90535185e-02, -2.45986410e-02,  1.34927004e-02,\n",
       "         7.33319582e-03, -8.82308207e-02,  7.51096832e-02, -3.42717609e-02,\n",
       "         7.62299998e-02, -1.08601732e-01,  5.21234951e-02, -4.08877462e-03,\n",
       "         4.27101839e-02,  7.81325557e-02,  3.34001758e-02, -1.24491169e-02,\n",
       "        -1.66248149e-02,  2.40462811e-02,  5.41921675e-02,  4.90610958e-02,\n",
       "        -3.54369556e-02,  3.42909916e-02, -2.23448500e-02,  8.85400395e-03,\n",
       "        -3.76651586e-02, -1.13290579e-01, -4.72636712e-03,  5.83149280e-02,\n",
       "         1.69317391e-02, -2.36530518e-02, -7.45882945e-02,  3.27224938e-02,\n",
       "        -1.39660092e-02, -1.38896244e-02,  2.81618568e-02,  2.79577045e-02,\n",
       "        -3.29898441e-02,  1.83859692e-03, -8.27967709e-03, -1.07517792e-01,\n",
       "        -1.44534115e-02,  4.01364287e-02,  6.17160524e-02,  2.30319006e-02,\n",
       "         4.48180723e-02,  4.26702013e-02, -6.32842519e-02,  5.25223985e-02,\n",
       "        -3.33017110e-02, -6.72009777e-02, -7.95659795e-02, -7.84187998e-02,\n",
       "        -6.40223509e-02, -2.54330583e-02,  3.33090127e-02,  1.10277506e-02,\n",
       "         5.74073202e-02,  3.70718479e-02, -4.44552590e-02, -4.32331322e-02,\n",
       "        -1.45196347e-02, -6.01021495e-02, -3.27867511e-02,  2.91730387e-02,\n",
       "         2.81217023e-02, -4.77746222e-02,  8.59285537e-02,  5.35782120e-02,\n",
       "         4.53549223e-02, -4.95627208e-02,  4.21714799e-02,  2.37879351e-02,\n",
       "         2.31392157e-03,  5.28598917e-02, -1.23587860e-02, -1.35589395e-02,\n",
       "        -7.61021212e-02,  9.59970871e-02,  5.42084271e-02, -2.94607264e-04]),\n",
       " array([-6.84645450e-02, -4.07909772e-02,  4.99812090e-02,  5.95320704e-02,\n",
       "         2.93350299e-02, -1.59293982e-02,  4.69615051e-02,  6.53872248e-02,\n",
       "         3.48854292e-03, -1.50972920e-02,  4.89258146e-02, -6.07915531e-03,\n",
       "        -2.77372337e-02, -8.20007815e-02,  6.73994351e-02, -3.66767509e-02,\n",
       "        -1.77984265e-02, -5.54696381e-02, -1.10837591e-02, -5.92456138e-02,\n",
       "        -1.73414303e-02, -2.30211858e-02,  1.57851272e-02, -4.74658130e-02,\n",
       "         8.46929330e-02, -7.85472150e-02, -6.20780909e-02, -1.61635506e-02,\n",
       "         4.47797656e-02,  4.82073623e-02, -7.80216245e-02,  2.87876736e-02,\n",
       "        -4.70065884e-02,  2.69473346e-02, -5.08823743e-02, -1.31850156e-02,\n",
       "         1.55695288e-02, -1.20273288e-02, -5.21984875e-02, -8.11526731e-03,\n",
       "         3.90306255e-03,  1.20261714e-02,  9.61877828e-02,  1.91055992e-02,\n",
       "        -8.53284526e-02,  1.60417685e-02, -1.29078789e-01,  3.17761112e-02,\n",
       "         4.62406553e-02, -1.77779657e-02, -9.41570915e-02,  6.80625121e-02,\n",
       "        -7.55526594e-02,  3.30814152e-02,  1.71239729e-02,  4.81798523e-02,\n",
       "        -1.69655227e-02,  3.60412351e-02, -4.90971493e-02,  9.03176784e-04,\n",
       "         3.66797346e-02,  4.72775142e-02, -6.36778791e-02,  5.35986438e-02,\n",
       "        -1.00171190e-02,  8.67963109e-03, -1.57474068e-02, -3.99132499e-02,\n",
       "        -8.74259115e-02,  7.98087418e-03, -6.22247127e-02, -7.58672712e-03,\n",
       "         4.86000771e-02, -4.19826035e-02, -2.64101491e-02, -1.08378998e-02,\n",
       "         1.42514338e-02,  7.72620848e-02,  3.47299585e-02, -7.20755314e-02,\n",
       "        -4.13524780e-02, -4.28986171e-03, -1.77316833e-02,  2.12341950e-02,\n",
       "         4.21409713e-02, -4.17024525e-02,  1.04398296e-02, -5.42401564e-02,\n",
       "         5.64135912e-02, -2.32900039e-02,  3.17067951e-02,  4.20148160e-02,\n",
       "        -1.09308890e-02, -7.23795248e-02, -2.36333721e-02, -5.31421639e-02,\n",
       "         2.17433996e-02,  5.71263710e-02, -3.76959593e-02,  1.74718475e-02,\n",
       "         7.62945859e-02,  3.05418126e-02,  4.78722212e-02, -1.10481152e-02,\n",
       "         5.15551683e-02,  4.73507850e-02, -2.96334465e-02,  7.20485486e-03,\n",
       "        -7.36929799e-02,  5.32002842e-03,  4.74692732e-04, -3.10683289e-02,\n",
       "        -5.28130192e-02,  1.10019744e-04, -5.71511085e-02,  3.69298536e-02,\n",
       "         4.78984396e-02, -3.41922855e-02, -3.86031653e-02,  1.25951648e-03,\n",
       "         2.10360967e-02, -3.61253836e-02, -3.80781468e-02,  4.96408417e-02,\n",
       "        -1.93601658e-03,  9.21872255e-02, -3.35003670e-02,  5.94674921e-02,\n",
       "        -4.92205259e-02,  2.06739332e-02,  2.67361827e-02, -1.12861573e-02,\n",
       "        -1.26339049e-02,  3.40946938e-02,  9.24320881e-02, -4.48246033e-02,\n",
       "         6.78522927e-02,  5.23076886e-03, -4.33245818e-02,  3.26701005e-02,\n",
       "        -7.08306235e-02, -7.35088282e-02,  3.55342483e-02, -2.81136337e-02,\n",
       "         4.24813263e-03, -1.05825687e-02,  6.72154732e-02, -2.99418258e-03,\n",
       "        -8.23575879e-02,  1.63739021e-02, -1.16975217e-02,  7.86687741e-02,\n",
       "        -6.91688926e-02,  4.00674196e-03,  1.22699150e-02,  6.19802360e-02,\n",
       "        -5.83332723e-02,  4.89250256e-02,  4.80716901e-02, -1.31652618e-02,\n",
       "        -2.27907636e-02,  7.62094203e-02,  3.15095878e-02, -4.59874662e-02,\n",
       "        -8.83463286e-03, -1.74720778e-02,  5.04458240e-02,  9.62682139e-02,\n",
       "        -7.69318439e-02, -4.38489521e-02,  5.26131496e-02,  4.31361370e-02,\n",
       "        -7.53077867e-02, -2.80217476e-02, -9.74458337e-02, -4.56735010e-02,\n",
       "        -8.89053371e-02,  1.92994894e-02, -4.76769804e-02, -6.21906578e-03,\n",
       "         2.04480700e-02, -7.26783569e-02, -1.26553175e-02, -7.47977748e-03,\n",
       "         5.12829592e-02, -2.12770733e-02,  7.17978800e-03,  1.75005458e-02,\n",
       "         3.46906831e-02, -1.31201940e-02, -1.64249043e-02,  2.57006713e-03,\n",
       "        -1.81301766e-02, -5.36537091e-02, -3.82702257e-02,  2.14113809e-02,\n",
       "        -4.63791650e-02,  5.16975586e-02,  5.55256552e-03,  5.77905672e-02,\n",
       "        -1.92704318e-02,  6.78900515e-02, -5.15456866e-02,  3.53072132e-02,\n",
       "        -2.45989710e-02,  3.43998959e-02, -4.29497830e-02, -7.23315159e-04,\n",
       "        -4.83628354e-02, -2.10574685e-02,  2.60942747e-02,  1.71991410e-02,\n",
       "         4.90631680e-02,  4.27363466e-02,  1.58866774e-02, -3.19091000e-02,\n",
       "        -2.31310172e-02, -2.28753611e-02,  1.16834803e-02, -2.06641234e-02,\n",
       "        -2.08961477e-02,  1.67383025e-02,  4.54225346e-02,  7.80998952e-02,\n",
       "        -2.42668555e-02, -4.02169399e-02,  1.74266673e-02,  1.31263946e-02,\n",
       "         1.80317717e-02, -3.23056719e-02,  6.62003876e-02, -3.00441013e-02,\n",
       "        -6.18529723e-02,  4.40945606e-02, -1.38278339e-03, -8.12386791e-03,\n",
       "        -6.28191129e-02,  9.78802597e-03, -4.37449375e-02, -2.23177963e-02,\n",
       "         1.39825435e-02, -9.39131370e-03,  5.77737632e-02,  5.68582934e-03,\n",
       "         6.99959792e-03,  5.18662206e-02,  8.11277165e-02, -3.21169619e-02,\n",
       "        -1.46012351e-02,  5.15873234e-02, -3.33945394e-02,  6.25186529e-03,\n",
       "        -2.60561887e-02, -1.16073310e-01, -3.18609868e-02, -1.83098602e-03,\n",
       "         1.26115183e-02,  4.75214545e-02, -6.91961105e-02, -3.66999093e-02,\n",
       "         5.06709632e-03,  1.75901283e-02, -2.44276936e-03,  6.19806238e-02,\n",
       "         3.69088667e-04, -4.62333316e-03, -7.88792886e-02,  1.19679620e-02,\n",
       "         7.18313977e-02,  3.19250059e-02,  6.21915314e-03, -3.33589790e-03,\n",
       "         4.24042663e-03, -4.90645564e-02, -5.10039370e-02,  2.02939280e-02,\n",
       "         1.00239548e-01,  1.37679382e-02,  5.39532244e-02,  1.84325402e-02,\n",
       "        -2.65197844e-02, -3.12311637e-03, -1.90452940e-02,  1.06802285e-03,\n",
       "         4.56450092e-02,  3.76863852e-04,  2.84095857e-02,  1.03553580e-01,\n",
       "         6.98288349e-02, -2.67218897e-02,  4.46196639e-02, -6.40976674e-02,\n",
       "         3.99098684e-03, -1.11137817e-02, -2.10737647e-02,  6.19234923e-02,\n",
       "         5.23775463e-02,  1.95562398e-02, -2.86931378e-02,  3.92541632e-02,\n",
       "         1.55811632e-02,  5.88361347e-02, -3.56654131e-02, -2.38522386e-02,\n",
       "        -5.17168558e-03, -2.10466949e-02,  8.00069034e-03, -8.07864552e-03,\n",
       "        -2.74219463e-02, -2.58961921e-02,  1.39284590e-02, -5.26504403e-02,\n",
       "        -1.90745156e-02, -3.14930100e-02,  1.04708455e-01,  2.61114665e-03,\n",
       "         7.02616841e-02, -5.09483219e-02, -5.52543073e-02,  2.02215050e-02,\n",
       "        -8.16281221e-03, -3.58211738e-02,  5.10549394e-02, -8.51643090e-03,\n",
       "         7.36254965e-02,  2.86271638e-02, -1.78829991e-02, -9.98737391e-03,\n",
       "        -1.16980080e-02, -9.39855825e-03, -3.95838055e-02,  2.37589367e-04,\n",
       "        -2.01829068e-02, -6.59789544e-02,  1.11788613e-02,  2.81481452e-02,\n",
       "        -3.98610635e-02, -7.75726512e-02,  1.84718965e-02, -4.94269853e-02,\n",
       "         1.03142426e-02,  1.62982653e-03, -1.56894514e-02,  5.81840499e-02,\n",
       "        -1.03378700e-02, -3.50275153e-02,  4.37654636e-02, -4.94209826e-02,\n",
       "        -1.21145027e-03, -3.09898310e-02, -1.11083771e-02, -1.28502530e-02,\n",
       "        -8.30511668e-03, -9.32981467e-03, -8.78524397e-02,  2.95374002e-02,\n",
       "        -8.93454030e-03, -5.20783558e-02, -2.22662183e-02,  7.04133868e-02,\n",
       "        -3.53543318e-02, -4.63168867e-02,  4.91700393e-04,  5.20626806e-02,\n",
       "         4.40596665e-02, -6.41695014e-02, -7.58182434e-03, -3.96460795e-02,\n",
       "         4.81614508e-02,  2.57534381e-02,  6.62564340e-02,  2.39279302e-02,\n",
       "        -1.43951572e-03, -5.54488947e-02,  7.74786987e-02, -4.47601104e-02,\n",
       "         7.37683715e-02, -1.93796838e-02,  2.07490716e-03, -9.68681920e-03,\n",
       "         3.35651611e-02,  4.73240145e-02,  2.40728996e-02, -8.87777768e-02,\n",
       "        -2.94609741e-02,  1.76222244e-02,  7.67230195e-03,  4.15431119e-02,\n",
       "         5.07819898e-02,  1.37010262e-02, -4.54285504e-02,  1.07644895e-03,\n",
       "        -3.84601732e-02,  1.05783022e-02,  7.11659333e-02, -6.64417976e-02,\n",
       "         4.23781802e-02,  9.09423913e-02, -2.81462556e-02,  4.86534055e-02,\n",
       "         1.18224720e-02,  2.58280366e-02,  6.95728597e-03, -4.14151972e-02,\n",
       "        -5.16182909e-03, -3.55529722e-02, -2.89795411e-02, -1.17909916e-02,\n",
       "         1.47817495e-02,  3.14089729e-02,  7.60694131e-02,  1.53690019e-02,\n",
       "        -2.97046706e-02,  7.05139223e-04, -1.99765548e-02, -6.22940941e-02,\n",
       "        -7.64891356e-02, -2.73840939e-02, -6.26668463e-03, -3.84220182e-02,\n",
       "         7.15531338e-02,  7.23361628e-03, -1.76299480e-04,  3.55628430e-02,\n",
       "         1.90444932e-02,  2.64928010e-02,  5.99224828e-02,  2.90479421e-02,\n",
       "         9.66438948e-02,  3.65637830e-02, -3.04610656e-03, -7.53272875e-02,\n",
       "        -2.13918128e-02,  3.00669922e-02, -2.75419185e-02,  3.54066673e-02,\n",
       "        -1.85430603e-02, -9.68055278e-02,  4.46501043e-02, -5.12637002e-02,\n",
       "         1.12632549e-01, -7.47263233e-02,  1.58849974e-02,  2.21568491e-02,\n",
       "         3.26485610e-02,  8.57565770e-02,  3.93148827e-02, -2.23000230e-02,\n",
       "        -5.66223565e-02,  3.98491940e-02,  3.88477920e-02,  5.71830296e-02,\n",
       "        -4.21841969e-02,  5.49665983e-02, -1.00882915e-02, -8.83606388e-03,\n",
       "         1.72328670e-03, -5.40126825e-02,  2.84965011e-02,  5.25783073e-03,\n",
       "         1.67969689e-02, -4.54667144e-03, -6.62309382e-02,  4.77976003e-02,\n",
       "         2.38412538e-02, -4.32284515e-02,  4.55662989e-02,  4.90653057e-03,\n",
       "         2.78644629e-02, -1.37332510e-02, -2.88296773e-02, -9.00870374e-02,\n",
       "        -8.85392833e-03,  3.72667867e-02,  7.09196026e-02,  1.20899197e-02,\n",
       "         2.77703725e-02,  5.41974261e-02, -4.06665102e-02,  5.38717151e-02,\n",
       "        -6.47571099e-02, -4.24225445e-02, -3.26029002e-02, -9.35032204e-02,\n",
       "        -7.05465578e-02, -1.33637398e-03, -5.30079995e-04,  3.16274764e-02,\n",
       "         2.98875482e-02,  1.86755637e-02, -8.35932375e-02, -5.55826059e-02,\n",
       "        -1.92920152e-02, -3.83219418e-02, -6.62633826e-02,  2.28925145e-02,\n",
       "         4.28592335e-02, -2.21887797e-02,  3.59086895e-02,  3.87453349e-02,\n",
       "         5.12415258e-02, -2.86151904e-02,  4.35143479e-02, -7.65412629e-03,\n",
       "        -4.03480739e-02,  1.64874298e-02,  9.11211930e-03, -6.77749701e-02,\n",
       "        -1.08254695e-01,  6.57807102e-02,  2.87207708e-02, -1.11521527e-02]),\n",
       " array([-0.04640506, -0.02555229,  0.02241224,  0.0621119 , -0.00958914,\n",
       "         0.00157371,  0.00722106,  0.0583863 , -0.01501036, -0.04554927,\n",
       "         0.05310418,  0.00391799, -0.02894962, -0.07716249,  0.0674254 ,\n",
       "        -0.04443315, -0.01545024, -0.00673657, -0.05833457, -0.04554446,\n",
       "        -0.03322874, -0.02403243,  0.03775101, -0.05258856,  0.07383882,\n",
       "        -0.03475558, -0.03423047,  0.01281413,  0.04997702,  0.02589856,\n",
       "        -0.0656116 ,  0.02243043,  0.0259163 , -0.02426142, -0.05031286,\n",
       "         0.02353647,  0.02325268,  0.03450977, -0.06906826,  0.01965793,\n",
       "        -0.00598715, -0.02082499,  0.10343584,  0.06534519, -0.04639717,\n",
       "         0.00457266, -0.0738901 ,  0.02225508,  0.07326618,  0.00529787,\n",
       "        -0.05323041,  0.05655762, -0.07030084,  0.01802531,  0.01671411,\n",
       "         0.03992514, -0.04546911,  0.03985433, -0.02611252,  0.02726345,\n",
       "         0.06669258, -0.00593998, -0.01681652,  0.03276757, -0.04090037,\n",
       "        -0.02152188, -0.02746728, -0.05200814, -0.08700769,  0.03939199,\n",
       "        -0.06554033,  0.02503348,  0.05670148, -0.02980804, -0.02349265,\n",
       "        -0.03911658,  0.02015715,  0.11209671,  0.02658449, -0.10314254,\n",
       "        -0.10206504, -0.01694493, -0.03089421,  0.01645218, -0.00579962,\n",
       "        -0.04988003,  0.0053624 , -0.06294077,  0.02606686, -0.02739847,\n",
       "         0.02627711,  0.06070416, -0.0003586 , -0.12166537, -0.01573066,\n",
       "        -0.04010761,  0.03621035,  0.08909134,  0.00155576,  0.07265018,\n",
       "         0.04857463,  0.03563974,  0.06381849, -0.03856449,  0.0251033 ,\n",
       "         0.0220598 , -0.04074284, -0.01898795, -0.01037184,  0.00825282,\n",
       "        -0.00789571, -0.02230567, -0.03297707, -0.02328023, -0.03154139,\n",
       "         0.04731397,  0.06138384, -0.01718843,  0.01487991, -0.01583023,\n",
       "         0.06071996, -0.06663612, -0.05038646,  0.05208841,  0.03777308,\n",
       "         0.06152844, -0.07228034,  0.01811058, -0.04263532,  0.03163774,\n",
       "        -0.05787864,  0.0096445 , -0.00096132,  0.03286919,  0.03209032,\n",
       "        -0.04973115,  0.04827439, -0.04551154, -0.035798  ,  0.11318764,\n",
       "        -0.03504134, -0.02622484,  0.02817217, -0.01076961,  0.00208774,\n",
       "         0.0250792 ,  0.03809478, -0.03614628, -0.04526794,  0.02089814,\n",
       "         0.02008259,  0.03480972, -0.08820939, -0.01767768,  0.00767453,\n",
       "         0.03032136, -0.0471566 ,  0.00438148,  0.02227456, -0.03254457,\n",
       "        -0.07426063,  0.05023593,  0.02136848, -0.05472072, -0.0363261 ,\n",
       "        -0.06062552,  0.08113712,  0.1149689 , -0.05316678, -0.00591508,\n",
       "         0.01564899,  0.04051228, -0.10905178, -0.06239747, -0.07709458,\n",
       "        -0.03197097, -0.03288845,  0.01133045, -0.09051659, -0.02556318,\n",
       "        -0.00203123, -0.06653918, -0.05501487, -0.03399807, -0.01611709,\n",
       "        -0.03518078, -0.03078923, -0.01534685,  0.0337773 , -0.01967455,\n",
       "        -0.03985548, -0.0072066 ,  0.02430553, -0.07360026, -0.02659029,\n",
       "        -0.03388132, -0.03120067,  0.0477963 , -0.02973886,  0.03149256,\n",
       "        -0.00968198,  0.0665489 , -0.06407717, -0.00086064, -0.03757083,\n",
       "         0.05400341, -0.03406181, -0.02078311, -0.0561821 ,  0.03562919,\n",
       "         0.06670378,  0.02176422,  0.04816473,  0.00854136, -0.01056225,\n",
       "        -0.01276593, -0.03843022, -0.01501997, -0.01771989,  0.00032894,\n",
       "         0.00825148, -0.00637819, -0.02968738,  0.04082165, -0.00171508,\n",
       "        -0.07684123,  0.01998765,  0.01840253, -0.02396686,  0.00574073,\n",
       "         0.03819697, -0.04683165, -0.05947575,  0.07238358,  0.0020378 ,\n",
       "        -0.03265776, -0.0407839 ,  0.04550079, -0.02426316, -0.01207548,\n",
       "         0.00401052, -0.01032633,  0.07517508,  0.01467874, -0.00640235,\n",
       "         0.05155146,  0.04144581, -0.00614763,  0.03220585,  0.04535165,\n",
       "        -0.05200011,  0.00165517, -0.02389087, -0.06846119, -0.02333791,\n",
       "        -0.00535143,  0.03637578,  0.07068432, -0.05866713, -0.01895526,\n",
       "        -0.01623166,  0.05365256, -0.04017927,  0.07290821,  0.02106377,\n",
       "        -0.0021025 , -0.07477032, -0.004038  ,  0.04971275,  0.01398774,\n",
       "        -0.03341809,  0.02345995,  0.04717708, -0.06277471, -0.05023062,\n",
       "         0.03033501,  0.05293387,  0.02686704,  0.0505744 , -0.00222174,\n",
       "        -0.05030469,  0.07177188,  0.04572262, -0.01552051,  0.05107568,\n",
       "         0.02771724, -0.00081811,  0.03704359,  0.01567763, -0.02774222,\n",
       "         0.05064709, -0.07710735, -0.02172641, -0.00189026, -0.02017728,\n",
       "         0.02397109, -0.01013533,  0.01544353, -0.01558873,  0.00171935,\n",
       "         0.02090547,  0.10171995, -0.03978056, -0.03267651,  0.04278529,\n",
       "         0.01083826,  0.06470924, -0.04065361, -0.02516178, -0.02769267,\n",
       "         0.00393289, -0.02289855, -0.01550048, -0.05456845,  0.09253762,\n",
       "         0.01118192,  0.10389674, -0.04011393, -0.05859876,  0.01905686,\n",
       "         0.043137  , -0.03497988,  0.06440478,  0.00991026,  0.03560479,\n",
       "         0.03191222, -0.02086761, -0.05528867, -0.00927163,  0.01986672,\n",
       "        -0.0216785 ,  0.00504808, -0.00230888, -0.0584229 ,  0.00483241,\n",
       "        -0.01146106, -0.0104335 , -0.08232934, -0.01328015, -0.08680168,\n",
       "         0.03447373,  0.02478402,  0.01345026,  0.0674834 ,  0.02600736,\n",
       "         0.01194268,  0.04569174, -0.07085321, -0.03044004, -0.0147707 ,\n",
       "        -0.01233565, -0.01490713, -0.03377303,  0.04935199, -0.06931315,\n",
       "         0.01349369,  0.00805514, -0.04497668, -0.02949519,  0.13005286,\n",
       "        -0.03073415, -0.05805043,  0.02393935,  0.07429712, -0.00272608,\n",
       "        -0.04673911, -0.01338518, -0.01830063,  0.04190758,  0.06305048,\n",
       "         0.03925432,  0.0240311 ,  0.06839431,  0.01482207,  0.01562929,\n",
       "        -0.0455219 ,  0.05894364, -0.06528976, -0.00397508,  0.00414694,\n",
       "        -0.02893444,  0.00939092,  0.02581715, -0.13046291,  0.00425753,\n",
       "        -0.00221703,  0.01742604,  0.08792424,  0.03736317,  0.014107  ,\n",
       "        -0.05205963, -0.0538896 , -0.0144362 ,  0.00409215,  0.06781608,\n",
       "        -0.04250322, -0.00058955,  0.08069777,  0.0101292 ,  0.03344391,\n",
       "         0.02320827,  0.02093833, -0.00580478, -0.01822607, -0.02013483,\n",
       "        -0.03651751, -0.0469835 , -0.04325979,  0.01835499,  0.03000857,\n",
       "         0.09701772,  0.05151886, -0.04644999,  0.0423935 ,  0.02160038,\n",
       "        -0.02058909, -0.03063555, -0.06878535, -0.00755446, -0.03720563,\n",
       "         0.04464829,  0.02336944,  0.01892009, -0.03167251,  0.02712731,\n",
       "         0.03745426,  0.040517  ,  0.01676782,  0.02111262,  0.02055866,\n",
       "         0.0166481 , -0.04420572, -0.03730034,  0.02126456, -0.03926508,\n",
       "         0.03688692,  0.01897142, -0.08261771,  0.03901444, -0.03044623,\n",
       "         0.10122842, -0.06991494,  0.00039482, -0.00489106,  0.04945   ,\n",
       "         0.07801681,  0.00727905, -0.03362052, -0.03920734,  0.00545541,\n",
       "         0.00921227,  0.04382133, -0.02098168,  0.04989172, -0.02926301,\n",
       "         0.03948209, -0.01535861, -0.07822518,  0.03408366, -0.00880521,\n",
       "         0.04224138,  0.00985957, -0.0849536 ,  0.06954379,  0.0018323 ,\n",
       "        -0.04087139,  0.0507642 ,  0.00234069,  0.07526614,  0.03694321,\n",
       "        -0.02703106, -0.08085745,  0.00910341,  0.07567112,  0.08493215,\n",
       "         0.02837957,  0.03841333,  0.04536348, -0.03875198,  0.00102288,\n",
       "        -0.03254619, -0.01359336, -0.04336301, -0.07701206, -0.03849459,\n",
       "        -0.00200014, -0.05545572,  0.03924781,  0.02017054,  0.00863328,\n",
       "        -0.08323216, -0.00451999, -0.01327353, -0.04672745,  0.02900618,\n",
       "         0.03114614,  0.04732815, -0.04944066,  0.06853644,  0.05842518,\n",
       "         0.04370725, -0.0198144 ,  0.05597632, -0.00572043,  0.03275026,\n",
       "         0.05249549, -0.00762854, -0.00463068, -0.06527919,  0.03410312,\n",
       "         0.06813592, -0.0064033 ]),\n",
       " array([-5.39491160e-02, -4.69381436e-02,  7.94724789e-03,  8.51118151e-02,\n",
       "        -8.18048637e-03, -1.12526185e-02,  9.15071823e-03,  7.51061770e-02,\n",
       "        -6.75849300e-03,  8.88341236e-03,  2.34876148e-02,  2.58873576e-02,\n",
       "        -3.01050341e-02, -7.18981679e-02,  5.00187061e-02, -5.24041131e-02,\n",
       "        -2.67100879e-02, -2.19239426e-02, -5.72899594e-02, -7.80428795e-02,\n",
       "        -3.64334675e-02, -5.67984857e-02,  2.89338025e-02, -1.56410584e-02,\n",
       "         4.71935946e-02, -2.01433862e-02, -2.26499161e-02,  5.19709706e-02,\n",
       "         1.01925552e-01,  4.34052808e-02, -7.46597427e-02,  4.00385957e-02,\n",
       "        -2.68597926e-02,  7.86887651e-03, -4.86942477e-02,  4.86715216e-02,\n",
       "         6.56675186e-04, -1.11229399e-02, -6.52470602e-02,  9.46464880e-03,\n",
       "        -1.90794711e-02, -7.06504257e-03,  1.12213225e-01,  1.24343446e-02,\n",
       "        -6.89022214e-02,  2.04126306e-02, -6.67501755e-02,  1.93144744e-02,\n",
       "         4.91917111e-02,  1.71109279e-02, -8.94755237e-02,  3.53440629e-02,\n",
       "        -6.80542740e-02,  7.04319626e-03, -2.21856394e-02,  2.99559634e-02,\n",
       "        -4.10455467e-02,  3.84265137e-02, -1.61504080e-02,  2.00870002e-02,\n",
       "         5.90934098e-02, -2.62369328e-02, -3.24981140e-02,  6.19163328e-02,\n",
       "        -2.61921627e-02, -8.27187706e-02, -4.62643352e-02, -3.82694616e-02,\n",
       "        -5.86740418e-02,  2.17528386e-02, -6.22214171e-02,  2.88501479e-02,\n",
       "         9.54941732e-02, -5.66817411e-02,  3.20969720e-02, -1.12941563e-02,\n",
       "         1.23607497e-02,  7.66643334e-02,  4.40622104e-03, -8.44354569e-02,\n",
       "        -9.18431555e-02, -2.36846986e-02, -4.05129681e-02,  5.82614945e-02,\n",
       "         2.63198747e-02, -4.26386844e-02,  4.24859058e-03, -1.79082859e-02,\n",
       "         4.44739244e-02, -2.82577823e-02, -1.70778440e-02,  4.13924957e-02,\n",
       "         4.99977867e-02, -6.38498687e-02,  5.40915074e-03, -3.91007786e-02,\n",
       "         5.32232000e-02,  3.54574442e-02, -1.57862524e-02,  3.52495272e-02,\n",
       "         6.55677943e-02,  5.59303299e-02,  6.95542023e-02,  1.28933706e-02,\n",
       "        -3.54510259e-02,  8.65080347e-02, -9.16091273e-02, -3.57241470e-02,\n",
       "        -4.18751648e-02, -8.22016713e-02, -2.72105842e-02, -1.05506978e-02,\n",
       "        -1.71524047e-02,  3.91342249e-03, -2.89752094e-02,  5.59528227e-02,\n",
       "        -2.98570941e-03, -4.29358616e-02, -9.71808211e-03, -3.15785639e-02,\n",
       "         6.56180134e-02,  5.62047982e-03, -3.41708584e-03,  5.87299542e-02,\n",
       "         4.51679429e-02,  7.18529942e-02, -3.73920955e-02,  7.24935990e-04,\n",
       "        -7.58187068e-02,  2.40599403e-02, -2.46057545e-02,  4.12001652e-02,\n",
       "        -2.42009258e-02,  1.36651505e-02,  3.44537754e-02, -2.51338977e-02,\n",
       "         3.59215264e-02, -4.15793409e-02, -2.69813117e-02,  7.50297027e-02,\n",
       "        -6.94230141e-02, -3.24029918e-02,  1.94441010e-02, -5.41879135e-02,\n",
       "        -4.29424539e-02, -1.36814087e-02,  3.95988697e-02,  3.01804262e-03,\n",
       "        -7.01948609e-02, -1.70384428e-02,  1.58830160e-02,  3.83980514e-02,\n",
       "        -7.31525795e-02, -3.88420673e-03,  7.62181458e-03,  6.64262552e-02,\n",
       "        -3.96035394e-02,  3.23164058e-02,  3.35128470e-02, -1.68595217e-02,\n",
       "        -1.32791087e-02,  3.75505575e-02,  1.06197714e-02, -6.66702722e-02,\n",
       "        -9.39609431e-03, -5.67881850e-03,  7.89177668e-02,  1.27797040e-01,\n",
       "        -6.80272329e-02, -1.51598730e-02,  7.21233637e-02,  8.52697275e-03,\n",
       "        -9.86680333e-02, -4.22728540e-02, -6.36601551e-02, -1.70519043e-02,\n",
       "        -5.92082187e-02,  2.25064514e-02, -2.17760676e-02, -2.00974295e-02,\n",
       "        -1.12058327e-02, -4.81320210e-02, -4.99669571e-02,  3.61687104e-02,\n",
       "         4.98267546e-02, -1.60007822e-02,  2.65940856e-02, -2.37665307e-02,\n",
       "         3.25618995e-02, -5.88961166e-03, -2.87443857e-02,  5.27973110e-03,\n",
       "         3.58764491e-02, -6.70220389e-02, -1.12157048e-02,  3.91759029e-02,\n",
       "         4.75247756e-04,  6.01457060e-02, -7.13793220e-02,  1.12429538e-01,\n",
       "         1.21989047e-02,  4.52958654e-02, -5.11846793e-02, -2.09235458e-03,\n",
       "        -3.11213192e-02,  6.49070046e-02, -5.12569045e-02, -9.71722458e-03,\n",
       "        -4.74422584e-02,  3.80896761e-02,  6.81822200e-02,  8.83496290e-02,\n",
       "         5.38116132e-02,  1.13822082e-03, -2.69736671e-02, -4.22604673e-02,\n",
       "         1.13963009e-04, -5.87446889e-02, -2.30929393e-03, -1.06399609e-02,\n",
       "         3.12804326e-03,  4.16803051e-02, -2.23503486e-02,  3.10988738e-02,\n",
       "         2.00456470e-02, -7.47364911e-02,  2.98439931e-02,  6.52568791e-02,\n",
       "        -3.01942024e-02, -6.79606288e-02,  3.80460944e-02, -5.18593621e-02,\n",
       "        -6.40731480e-02,  3.92319232e-02, -1.31637997e-03, -4.79199611e-04,\n",
       "        -6.91198954e-02,  4.72969098e-02, -2.20860704e-02, -4.33856577e-02,\n",
       "        -4.57304307e-02,  5.69103700e-02,  5.34911972e-02,  1.33672200e-02,\n",
       "        -4.74116529e-02,  9.87575694e-02,  5.19450487e-02, -1.55375382e-03,\n",
       "        -4.35569127e-03,  4.42173960e-02, -5.92302560e-02, -1.58052666e-02,\n",
       "        -4.68651846e-02, -6.21946387e-02,  1.81433884e-02,  4.37307868e-02,\n",
       "         2.61268894e-02,  7.32415802e-02, -9.36642259e-02, -1.37153647e-02,\n",
       "        -1.09324822e-02,  5.44570737e-02, -3.03728556e-02,  6.32117556e-02,\n",
       "        -9.69361133e-05, -2.36718668e-02, -3.73924883e-02,  5.06917541e-03,\n",
       "         6.90051394e-02, -1.83987396e-02, -1.20997203e-02,  3.65728305e-02,\n",
       "         7.23068364e-02, -8.46998042e-02, -7.11886322e-02,  2.86916487e-02,\n",
       "         7.11449483e-02,  4.42416535e-02,  3.96464686e-02, -7.70906734e-03,\n",
       "        -6.02389611e-02, -3.29095711e-02, -7.59914390e-03,  2.11700028e-04,\n",
       "         2.30860526e-02,  1.58212119e-02,  5.47572311e-02,  4.19985321e-02,\n",
       "         5.71722369e-02,  2.23012979e-02,  2.60293298e-02, -3.98381768e-02,\n",
       "         1.86791782e-02,  1.05014759e-02, -5.79687135e-02, -6.02554019e-03,\n",
       "         4.08008691e-02,  5.73837299e-02, -3.26171496e-02,  7.11970594e-03,\n",
       "         5.39349000e-02,  7.84881605e-02, -4.16524818e-02, -1.03632152e-02,\n",
       "         2.78552035e-02, -1.14055915e-02,  1.83260128e-02, -6.46777176e-03,\n",
       "        -1.34041851e-02, -4.76723697e-02,  2.56194092e-02, -2.38032716e-02,\n",
       "        -8.53852837e-03, -5.38102332e-02,  4.62832924e-02,  1.05147028e-02,\n",
       "         4.75533218e-02, -9.72668977e-03, -1.46817530e-02, -1.05712227e-02,\n",
       "        -7.33287420e-02, -3.74810527e-03,  3.69188326e-02,  5.23813054e-02,\n",
       "         3.56450689e-02,  2.44015407e-02, -4.39063239e-02, -2.90835233e-02,\n",
       "        -3.70304516e-02, -3.98896866e-02, -5.81860738e-02, -2.44394381e-02,\n",
       "        -6.15118303e-04, -7.99188451e-02,  2.44150367e-02,  9.97285023e-03,\n",
       "        -3.95048569e-02, -6.35162834e-02,  5.23371642e-04, -3.96815194e-02,\n",
       "         3.14058117e-02,  2.63292715e-02, -2.45341485e-03,  2.39775411e-02,\n",
       "         7.35863438e-03,  2.07084309e-02,  1.93714148e-02, -3.06753099e-02,\n",
       "        -3.28073060e-02, -2.88117266e-02,  5.67370392e-03, -5.47367986e-02,\n",
       "        -4.91725711e-02,  1.70267456e-02, -7.98250065e-02, -7.75195221e-03,\n",
       "         2.87072679e-04, -7.43545530e-02, -1.34938227e-02,  1.16846416e-01,\n",
       "        -7.17040073e-03, -5.57205952e-02,  3.39253459e-02,  7.22843848e-02,\n",
       "         4.24930146e-03, -5.14441112e-02, -4.30679624e-02,  2.05430191e-02,\n",
       "         5.91681178e-02,  3.13895430e-02,  5.58162131e-02, -1.00628774e-02,\n",
       "        -8.28533304e-03, -9.46229139e-03,  9.37587479e-03, -5.07659818e-03,\n",
       "         6.45466325e-02, -9.41586614e-03,  9.80399997e-03, -3.92000468e-03,\n",
       "        -3.75644953e-04,  1.01772830e-02,  2.20626263e-02, -5.30389672e-02,\n",
       "        -3.51814742e-02,  2.03664014e-02,  3.33488150e-02,  3.78099487e-02,\n",
       "         4.60664683e-02,  5.63478892e-03, -5.65874839e-02, -3.58329328e-02,\n",
       "         2.61675298e-02,  2.30429873e-03,  1.04340738e-01, -3.72532101e-02,\n",
       "        -1.57361641e-02,  5.19182203e-02, -2.43436550e-02,  3.77608001e-02,\n",
       "        -2.72128125e-02,  3.82055327e-02, -2.12704555e-02, -2.70499462e-03,\n",
       "        -2.20932380e-02,  4.42577202e-03, -5.10870998e-02,  1.60173384e-02,\n",
       "         1.31446614e-02, -4.31445748e-03,  6.03683565e-02,  1.85342925e-02,\n",
       "         7.83839137e-03,  2.50314055e-02,  7.12745924e-03, -1.38473375e-03,\n",
       "        -1.71076296e-02, -4.36468224e-02, -1.34718704e-02, -2.72051643e-02,\n",
       "         4.48998399e-02,  1.18989522e-02, -1.09786069e-02,  2.49329889e-03,\n",
       "         3.01501485e-02, -2.71583020e-02, -4.53718435e-03, -1.84822006e-03,\n",
       "         3.91223721e-02,  2.95889678e-02, -7.02107742e-03, -5.02576479e-02,\n",
       "        -7.82027869e-02,  1.95382205e-02, -3.40016999e-02,  2.21225838e-02,\n",
       "         2.24005993e-02, -1.20147659e-01,  3.61571579e-02, -1.60609849e-02,\n",
       "         1.04866985e-01, -8.37169152e-02, -1.22115009e-02,  2.28271978e-02,\n",
       "         2.65272459e-04,  1.02461478e-01,  2.84883463e-02, -2.07371285e-02,\n",
       "        -1.44567298e-03,  4.05267135e-02,  6.42084162e-02,  1.26777924e-02,\n",
       "        -1.26796813e-03,  4.28199188e-02, -3.41748117e-02,  2.01674747e-02,\n",
       "         5.69886671e-03, -7.52313565e-02,  3.57637237e-02,  3.62803271e-02,\n",
       "         3.86357631e-02, -1.42369987e-02, -3.54272887e-02,  2.26443042e-02,\n",
       "        -2.33031021e-03, -1.01619019e-02,  5.38864632e-02, -1.28889043e-02,\n",
       "         2.23397405e-02,  3.69866473e-02, -4.23648868e-02, -1.18215007e-01,\n",
       "        -1.94772859e-02,  9.34259150e-02,  6.91461010e-02,  1.21007269e-03,\n",
       "         8.11376248e-02,  8.05184976e-03, -5.98518201e-02,  6.79168697e-02,\n",
       "        -4.29170215e-02,  2.27800164e-02, -3.23350484e-02, -9.85689640e-02,\n",
       "        -7.48887921e-02,  1.44242668e-02, -6.85837086e-02,  2.34639976e-02,\n",
       "        -1.20100973e-02,  3.74186596e-02, -1.49931013e-02, -2.75487495e-02,\n",
       "        -8.33144921e-03, -6.71907131e-02,  1.28657908e-02,  6.62264610e-02,\n",
       "         3.67350907e-02, -3.37226693e-02,  4.34958300e-02,  3.82978247e-02,\n",
       "         4.31668606e-02, -3.05953484e-02,  3.07946553e-02,  2.95002797e-02,\n",
       "         7.15885734e-03,  4.24221664e-02, -1.03830485e-02, -4.33906248e-02,\n",
       "        -7.48631858e-02,  5.40299672e-02,  3.03338516e-02, -1.25451751e-02])]"
      ]
     },
     "execution_count": 101,
     "metadata": {},
     "output_type": "execute_result"
    }
   ],
   "source": [
    "text_embeddings"
   ]
  },
  {
   "cell_type": "code",
   "execution_count": 103,
   "id": "255207d7-bec1-4c89-9c84-64af8c126d37",
   "metadata": {},
   "outputs": [],
   "source": [
    "cosine_similarity = []\n",
    "for vector in text_embeddings:\n",
    "    cosine_similarity.append(query_embeddings[0].dot(vector))"
   ]
  },
  {
   "cell_type": "code",
   "execution_count": 104,
   "id": "947e348f-6829-4e5f-a06e-b2af1c805c2d",
   "metadata": {},
   "outputs": [
    {
     "data": {
      "text/plain": [
       "[0.7629684696540237,\n",
       " 0.818237815004289,\n",
       " 0.8085397398734189,\n",
       " 0.7133079015686243,\n",
       " 0.7304499234333599]"
      ]
     },
     "execution_count": 104,
     "metadata": {},
     "output_type": "execute_result"
    }
   ],
   "source": [
    "cosine_similarity"
   ]
  },
  {
   "cell_type": "code",
   "execution_count": 105,
   "id": "3a2ec1ea-34d8-40d1-a5e6-6097dde41e51",
   "metadata": {},
   "outputs": [
    {
     "data": {
      "text/plain": [
       "0.818237815004289"
      ]
     },
     "execution_count": 105,
     "metadata": {},
     "output_type": "execute_result"
    }
   ],
   "source": [
    "max(cosine_similarity)"
   ]
  },
  {
   "cell_type": "code",
   "execution_count": 106,
   "id": "68f4607a-015c-4c66-8d46-ee9432e52b27",
   "metadata": {},
   "outputs": [],
   "source": [
    "full_text_embeddings = []\n",
    "for doc in documents:\n",
    "    full_text = doc['question'] + ' ' + doc['text']\n",
    "    array_embd = model.embed(full_text)\n",
    "    embeddings = list(array_embd)\n",
    "    full_text_embeddings.extend(embeddings)"
   ]
  },
  {
   "cell_type": "code",
   "execution_count": 107,
   "id": "6507d730-a116-434e-ae63-7245975c08c6",
   "metadata": {},
   "outputs": [],
   "source": [
    "full_cosine_similarity = []\n",
    "for vector in full_text_embeddings:\n",
    "    full_cosine_similarity.append(query_embeddings[0].dot(vector))"
   ]
  },
  {
   "cell_type": "code",
   "execution_count": 109,
   "id": "c215272b-0ea4-4177-9c2d-1e87f11d77a2",
   "metadata": {},
   "outputs": [
    {
     "data": {
      "text/plain": [
       "0.8514543236908066"
      ]
     },
     "execution_count": 109,
     "metadata": {},
     "output_type": "execute_result"
    }
   ],
   "source": [
    "max(full_cosine_similarity)"
   ]
  },
  {
   "cell_type": "code",
   "execution_count": 110,
   "id": "b48b77a0-6fea-455d-bd7b-77e1cddb2aac",
   "metadata": {},
   "outputs": [
    {
     "data": {
      "text/plain": [
       "[0.8514543236908066,\n",
       " 0.8436594159113069,\n",
       " 0.8408287048502558,\n",
       " 0.7755157969663908,\n",
       " 0.8086007795043937]"
      ]
     },
     "execution_count": 110,
     "metadata": {},
     "output_type": "execute_result"
    }
   ],
   "source": [
    "full_cosine_similarity"
   ]
  },
  {
   "cell_type": "code",
   "execution_count": 116,
   "id": "71c0e216-0db1-4b9a-8bde-0f43421549c9",
   "metadata": {},
   "outputs": [],
   "source": [
    "dim_set = set()\n",
    "for model in TextEmbedding.list_supported_models():\n",
    "    if model[\"dim\"]:\n",
    "        dim_set.add(model[\"dim\"])"
   ]
  },
  {
   "cell_type": "code",
   "execution_count": 119,
   "id": "94527ea5-8940-4039-9a2e-d81b9d21be33",
   "metadata": {},
   "outputs": [
    {
     "data": {
      "text/plain": [
       "384"
      ]
     },
     "execution_count": 119,
     "metadata": {},
     "output_type": "execute_result"
    }
   ],
   "source": [
    "min(dim_set)"
   ]
  },
  {
   "cell_type": "code",
   "execution_count": 118,
   "id": "a991603d-8fa4-4369-abf2-1ef1c0fef09a",
   "metadata": {},
   "outputs": [
    {
     "data": {
      "text/plain": [
       "[{'model': 'BAAI/bge-base-en',\n",
       "  'sources': {'hf': 'Qdrant/fast-bge-base-en',\n",
       "   'url': 'https://storage.googleapis.com/qdrant-fastembed/fast-bge-base-en.tar.gz',\n",
       "   '_deprecated_tar_struct': True},\n",
       "  'model_file': 'model_optimized.onnx',\n",
       "  'description': 'Text embeddings, Unimodal (text), English, 512 input tokens truncation, Prefixes for queries/documents: necessary, 2023 year.',\n",
       "  'license': 'mit',\n",
       "  'size_in_GB': 0.42,\n",
       "  'additional_files': [],\n",
       "  'dim': 768,\n",
       "  'tasks': {}},\n",
       " {'model': 'BAAI/bge-base-en-v1.5',\n",
       "  'sources': {'hf': 'qdrant/bge-base-en-v1.5-onnx-q',\n",
       "   'url': 'https://storage.googleapis.com/qdrant-fastembed/fast-bge-base-en-v1.5.tar.gz',\n",
       "   '_deprecated_tar_struct': True},\n",
       "  'model_file': 'model_optimized.onnx',\n",
       "  'description': 'Text embeddings, Unimodal (text), English, 512 input tokens truncation, Prefixes for queries/documents: not so necessary, 2023 year.',\n",
       "  'license': 'mit',\n",
       "  'size_in_GB': 0.21,\n",
       "  'additional_files': [],\n",
       "  'dim': 768,\n",
       "  'tasks': {}},\n",
       " {'model': 'BAAI/bge-large-en-v1.5',\n",
       "  'sources': {'hf': 'qdrant/bge-large-en-v1.5-onnx',\n",
       "   'url': None,\n",
       "   '_deprecated_tar_struct': False},\n",
       "  'model_file': 'model.onnx',\n",
       "  'description': 'Text embeddings, Unimodal (text), English, 512 input tokens truncation, Prefixes for queries/documents: not so necessary, 2023 year.',\n",
       "  'license': 'mit',\n",
       "  'size_in_GB': 1.2,\n",
       "  'additional_files': [],\n",
       "  'dim': 1024,\n",
       "  'tasks': {}},\n",
       " {'model': 'BAAI/bge-small-en',\n",
       "  'sources': {'hf': 'Qdrant/bge-small-en',\n",
       "   'url': 'https://storage.googleapis.com/qdrant-fastembed/BAAI-bge-small-en.tar.gz',\n",
       "   '_deprecated_tar_struct': True},\n",
       "  'model_file': 'model_optimized.onnx',\n",
       "  'description': 'Text embeddings, Unimodal (text), English, 512 input tokens truncation, Prefixes for queries/documents: necessary, 2023 year.',\n",
       "  'license': 'mit',\n",
       "  'size_in_GB': 0.13,\n",
       "  'additional_files': [],\n",
       "  'dim': 384,\n",
       "  'tasks': {}},\n",
       " {'model': 'BAAI/bge-small-en-v1.5',\n",
       "  'sources': {'hf': 'qdrant/bge-small-en-v1.5-onnx-q',\n",
       "   'url': None,\n",
       "   '_deprecated_tar_struct': False},\n",
       "  'model_file': 'model_optimized.onnx',\n",
       "  'description': 'Text embeddings, Unimodal (text), English, 512 input tokens truncation, Prefixes for queries/documents: not so necessary, 2023 year.',\n",
       "  'license': 'mit',\n",
       "  'size_in_GB': 0.067,\n",
       "  'additional_files': [],\n",
       "  'dim': 384,\n",
       "  'tasks': {}},\n",
       " {'model': 'BAAI/bge-small-zh-v1.5',\n",
       "  'sources': {'hf': 'Qdrant/bge-small-zh-v1.5',\n",
       "   'url': 'https://storage.googleapis.com/qdrant-fastembed/fast-bge-small-zh-v1.5.tar.gz',\n",
       "   '_deprecated_tar_struct': True},\n",
       "  'model_file': 'model_optimized.onnx',\n",
       "  'description': 'Text embeddings, Unimodal (text), Chinese, 512 input tokens truncation, Prefixes for queries/documents: not so necessary, 2023 year.',\n",
       "  'license': 'mit',\n",
       "  'size_in_GB': 0.09,\n",
       "  'additional_files': [],\n",
       "  'dim': 512,\n",
       "  'tasks': {}},\n",
       " {'model': 'mixedbread-ai/mxbai-embed-large-v1',\n",
       "  'sources': {'hf': 'mixedbread-ai/mxbai-embed-large-v1',\n",
       "   'url': None,\n",
       "   '_deprecated_tar_struct': False},\n",
       "  'model_file': 'onnx/model.onnx',\n",
       "  'description': 'Text embeddings, Unimodal (text), English, 512 input tokens truncation, Prefixes for queries/documents: necessary, 2024 year.',\n",
       "  'license': 'apache-2.0',\n",
       "  'size_in_GB': 0.64,\n",
       "  'additional_files': [],\n",
       "  'dim': 1024,\n",
       "  'tasks': {}},\n",
       " {'model': 'snowflake/snowflake-arctic-embed-xs',\n",
       "  'sources': {'hf': 'snowflake/snowflake-arctic-embed-xs',\n",
       "   'url': None,\n",
       "   '_deprecated_tar_struct': False},\n",
       "  'model_file': 'onnx/model.onnx',\n",
       "  'description': 'Text embeddings, Unimodal (text), English, 512 input tokens truncation, Prefixes for queries/documents: necessary, 2024 year.',\n",
       "  'license': 'apache-2.0',\n",
       "  'size_in_GB': 0.09,\n",
       "  'additional_files': [],\n",
       "  'dim': 384,\n",
       "  'tasks': {}},\n",
       " {'model': 'snowflake/snowflake-arctic-embed-s',\n",
       "  'sources': {'hf': 'snowflake/snowflake-arctic-embed-s',\n",
       "   'url': None,\n",
       "   '_deprecated_tar_struct': False},\n",
       "  'model_file': 'onnx/model.onnx',\n",
       "  'description': 'Text embeddings, Unimodal (text), English, 512 input tokens truncation, Prefixes for queries/documents: necessary, 2024 year.',\n",
       "  'license': 'apache-2.0',\n",
       "  'size_in_GB': 0.13,\n",
       "  'additional_files': [],\n",
       "  'dim': 384,\n",
       "  'tasks': {}},\n",
       " {'model': 'snowflake/snowflake-arctic-embed-m',\n",
       "  'sources': {'hf': 'Snowflake/snowflake-arctic-embed-m',\n",
       "   'url': None,\n",
       "   '_deprecated_tar_struct': False},\n",
       "  'model_file': 'onnx/model.onnx',\n",
       "  'description': 'Text embeddings, Unimodal (text), English, 512 input tokens truncation, Prefixes for queries/documents: necessary, 2024 year.',\n",
       "  'license': 'apache-2.0',\n",
       "  'size_in_GB': 0.43,\n",
       "  'additional_files': [],\n",
       "  'dim': 768,\n",
       "  'tasks': {}},\n",
       " {'model': 'snowflake/snowflake-arctic-embed-m-long',\n",
       "  'sources': {'hf': 'snowflake/snowflake-arctic-embed-m-long',\n",
       "   'url': None,\n",
       "   '_deprecated_tar_struct': False},\n",
       "  'model_file': 'onnx/model.onnx',\n",
       "  'description': 'Text embeddings, Unimodal (text), English, 2048 input tokens truncation, Prefixes for queries/documents: necessary, 2024 year.',\n",
       "  'license': 'apache-2.0',\n",
       "  'size_in_GB': 0.54,\n",
       "  'additional_files': [],\n",
       "  'dim': 768,\n",
       "  'tasks': {}},\n",
       " {'model': 'snowflake/snowflake-arctic-embed-l',\n",
       "  'sources': {'hf': 'snowflake/snowflake-arctic-embed-l',\n",
       "   'url': None,\n",
       "   '_deprecated_tar_struct': False},\n",
       "  'model_file': 'onnx/model.onnx',\n",
       "  'description': 'Text embeddings, Unimodal (text), English, 512 input tokens truncation, Prefixes for queries/documents: necessary, 2024 year.',\n",
       "  'license': 'apache-2.0',\n",
       "  'size_in_GB': 1.02,\n",
       "  'additional_files': [],\n",
       "  'dim': 1024,\n",
       "  'tasks': {}},\n",
       " {'model': 'jinaai/jina-clip-v1',\n",
       "  'sources': {'hf': 'jinaai/jina-clip-v1',\n",
       "   'url': None,\n",
       "   '_deprecated_tar_struct': False},\n",
       "  'model_file': 'onnx/text_model.onnx',\n",
       "  'description': 'Text embeddings, Multimodal (text&image), English, Prefixes for queries/documents: not necessary, 2024 year',\n",
       "  'license': 'apache-2.0',\n",
       "  'size_in_GB': 0.55,\n",
       "  'additional_files': [],\n",
       "  'dim': 768,\n",
       "  'tasks': {}},\n",
       " {'model': 'Qdrant/clip-ViT-B-32-text',\n",
       "  'sources': {'hf': 'Qdrant/clip-ViT-B-32-text',\n",
       "   'url': None,\n",
       "   '_deprecated_tar_struct': False},\n",
       "  'model_file': 'model.onnx',\n",
       "  'description': 'Text embeddings, Multimodal (text&image), English, 77 input tokens truncation, Prefixes for queries/documents: not necessary, 2021 year',\n",
       "  'license': 'mit',\n",
       "  'size_in_GB': 0.25,\n",
       "  'additional_files': [],\n",
       "  'dim': 512,\n",
       "  'tasks': {}},\n",
       " {'model': 'sentence-transformers/all-MiniLM-L6-v2',\n",
       "  'sources': {'hf': 'qdrant/all-MiniLM-L6-v2-onnx',\n",
       "   'url': 'https://storage.googleapis.com/qdrant-fastembed/sentence-transformers-all-MiniLM-L6-v2.tar.gz',\n",
       "   '_deprecated_tar_struct': True},\n",
       "  'model_file': 'model.onnx',\n",
       "  'description': 'Text embeddings, Unimodal (text), English, 256 input tokens truncation, Prefixes for queries/documents: not necessary, 2021 year.',\n",
       "  'license': 'apache-2.0',\n",
       "  'size_in_GB': 0.09,\n",
       "  'additional_files': [],\n",
       "  'dim': 384,\n",
       "  'tasks': {}},\n",
       " {'model': 'jinaai/jina-embeddings-v2-base-en',\n",
       "  'sources': {'hf': 'xenova/jina-embeddings-v2-base-en',\n",
       "   'url': None,\n",
       "   '_deprecated_tar_struct': False},\n",
       "  'model_file': 'onnx/model.onnx',\n",
       "  'description': 'Text embeddings, Unimodal (text), English, 8192 input tokens truncation, Prefixes for queries/documents: not necessary, 2023 year.',\n",
       "  'license': 'apache-2.0',\n",
       "  'size_in_GB': 0.52,\n",
       "  'additional_files': [],\n",
       "  'dim': 768,\n",
       "  'tasks': {}},\n",
       " {'model': 'jinaai/jina-embeddings-v2-small-en',\n",
       "  'sources': {'hf': 'xenova/jina-embeddings-v2-small-en',\n",
       "   'url': None,\n",
       "   '_deprecated_tar_struct': False},\n",
       "  'model_file': 'onnx/model.onnx',\n",
       "  'description': 'Text embeddings, Unimodal (text), English, 8192 input tokens truncation, Prefixes for queries/documents: not necessary, 2023 year.',\n",
       "  'license': 'apache-2.0',\n",
       "  'size_in_GB': 0.12,\n",
       "  'additional_files': [],\n",
       "  'dim': 512,\n",
       "  'tasks': {}},\n",
       " {'model': 'jinaai/jina-embeddings-v2-base-de',\n",
       "  'sources': {'hf': 'jinaai/jina-embeddings-v2-base-de',\n",
       "   'url': None,\n",
       "   '_deprecated_tar_struct': False},\n",
       "  'model_file': 'onnx/model_fp16.onnx',\n",
       "  'description': 'Text embeddings, Unimodal (text), Multilingual (German, English), 8192 input tokens truncation, Prefixes for queries/documents: not necessary, 2024 year.',\n",
       "  'license': 'apache-2.0',\n",
       "  'size_in_GB': 0.32,\n",
       "  'additional_files': [],\n",
       "  'dim': 768,\n",
       "  'tasks': {}},\n",
       " {'model': 'jinaai/jina-embeddings-v2-base-code',\n",
       "  'sources': {'hf': 'jinaai/jina-embeddings-v2-base-code',\n",
       "   'url': None,\n",
       "   '_deprecated_tar_struct': False},\n",
       "  'model_file': 'onnx/model.onnx',\n",
       "  'description': 'Text embeddings, Unimodal (text), Multilingual (English, 30 programming languages), 8192 input tokens truncation, Prefixes for queries/documents: not necessary, 2024 year.',\n",
       "  'license': 'apache-2.0',\n",
       "  'size_in_GB': 0.64,\n",
       "  'additional_files': [],\n",
       "  'dim': 768,\n",
       "  'tasks': {}},\n",
       " {'model': 'jinaai/jina-embeddings-v2-base-zh',\n",
       "  'sources': {'hf': 'jinaai/jina-embeddings-v2-base-zh',\n",
       "   'url': None,\n",
       "   '_deprecated_tar_struct': False},\n",
       "  'model_file': 'onnx/model.onnx',\n",
       "  'description': 'Text embeddings, Unimodal (text), supports mixed Chinese-English input text, 8192 input tokens truncation, Prefixes for queries/documents: not necessary, 2024 year.',\n",
       "  'license': 'apache-2.0',\n",
       "  'size_in_GB': 0.64,\n",
       "  'additional_files': [],\n",
       "  'dim': 768,\n",
       "  'tasks': {}},\n",
       " {'model': 'jinaai/jina-embeddings-v2-base-es',\n",
       "  'sources': {'hf': 'jinaai/jina-embeddings-v2-base-es',\n",
       "   'url': None,\n",
       "   '_deprecated_tar_struct': False},\n",
       "  'model_file': 'onnx/model.onnx',\n",
       "  'description': 'Text embeddings, Unimodal (text), supports mixed Spanish-English input text, 8192 input tokens truncation, Prefixes for queries/documents: not necessary, 2024 year.',\n",
       "  'license': 'apache-2.0',\n",
       "  'size_in_GB': 0.64,\n",
       "  'additional_files': [],\n",
       "  'dim': 768,\n",
       "  'tasks': {}},\n",
       " {'model': 'thenlper/gte-base',\n",
       "  'sources': {'hf': 'thenlper/gte-base',\n",
       "   'url': None,\n",
       "   '_deprecated_tar_struct': False},\n",
       "  'model_file': 'onnx/model.onnx',\n",
       "  'description': 'General text embeddings, Unimodal (text), supports English only input text, 512 input tokens truncation, Prefixes for queries/documents: not necessary, 2024 year.',\n",
       "  'license': 'mit',\n",
       "  'size_in_GB': 0.44,\n",
       "  'additional_files': [],\n",
       "  'dim': 768,\n",
       "  'tasks': {}},\n",
       " {'model': 'thenlper/gte-large',\n",
       "  'sources': {'hf': 'qdrant/gte-large-onnx',\n",
       "   'url': None,\n",
       "   '_deprecated_tar_struct': False},\n",
       "  'model_file': 'model.onnx',\n",
       "  'description': 'Text embeddings, Unimodal (text), English, 512 input tokens truncation, Prefixes for queries/documents: not necessary, 2023 year.',\n",
       "  'license': 'mit',\n",
       "  'size_in_GB': 1.2,\n",
       "  'additional_files': [],\n",
       "  'dim': 1024,\n",
       "  'tasks': {}},\n",
       " {'model': 'nomic-ai/nomic-embed-text-v1.5',\n",
       "  'sources': {'hf': 'nomic-ai/nomic-embed-text-v1.5',\n",
       "   'url': None,\n",
       "   '_deprecated_tar_struct': False},\n",
       "  'model_file': 'onnx/model.onnx',\n",
       "  'description': 'Text embeddings, Multimodal (text, image), English, 8192 input tokens truncation, Prefixes for queries/documents: necessary, 2024 year.',\n",
       "  'license': 'apache-2.0',\n",
       "  'size_in_GB': 0.52,\n",
       "  'additional_files': [],\n",
       "  'dim': 768,\n",
       "  'tasks': {}},\n",
       " {'model': 'nomic-ai/nomic-embed-text-v1.5-Q',\n",
       "  'sources': {'hf': 'nomic-ai/nomic-embed-text-v1.5',\n",
       "   'url': None,\n",
       "   '_deprecated_tar_struct': False},\n",
       "  'model_file': 'onnx/model_quantized.onnx',\n",
       "  'description': 'Text embeddings, Multimodal (text, image), English, 8192 input tokens truncation, Prefixes for queries/documents: necessary, 2024 year.',\n",
       "  'license': 'apache-2.0',\n",
       "  'size_in_GB': 0.13,\n",
       "  'additional_files': [],\n",
       "  'dim': 768,\n",
       "  'tasks': {}},\n",
       " {'model': 'nomic-ai/nomic-embed-text-v1',\n",
       "  'sources': {'hf': 'nomic-ai/nomic-embed-text-v1',\n",
       "   'url': None,\n",
       "   '_deprecated_tar_struct': False},\n",
       "  'model_file': 'onnx/model.onnx',\n",
       "  'description': 'Text embeddings, Multimodal (text, image), English, 8192 input tokens truncation, Prefixes for queries/documents: necessary, 2024 year.',\n",
       "  'license': 'apache-2.0',\n",
       "  'size_in_GB': 0.52,\n",
       "  'additional_files': [],\n",
       "  'dim': 768,\n",
       "  'tasks': {}},\n",
       " {'model': 'sentence-transformers/paraphrase-multilingual-MiniLM-L12-v2',\n",
       "  'sources': {'hf': 'qdrant/paraphrase-multilingual-MiniLM-L12-v2-onnx-Q',\n",
       "   'url': None,\n",
       "   '_deprecated_tar_struct': False},\n",
       "  'model_file': 'model_optimized.onnx',\n",
       "  'description': 'Text embeddings, Unimodal (text), Multilingual (~50 languages), 512 input tokens truncation, Prefixes for queries/documents: not necessary, 2019 year.',\n",
       "  'license': 'apache-2.0',\n",
       "  'size_in_GB': 0.22,\n",
       "  'additional_files': [],\n",
       "  'dim': 384,\n",
       "  'tasks': {}},\n",
       " {'model': 'sentence-transformers/paraphrase-multilingual-mpnet-base-v2',\n",
       "  'sources': {'hf': 'xenova/paraphrase-multilingual-mpnet-base-v2',\n",
       "   'url': None,\n",
       "   '_deprecated_tar_struct': False},\n",
       "  'model_file': 'onnx/model.onnx',\n",
       "  'description': 'Text embeddings, Unimodal (text), Multilingual (~50 languages), 384 input tokens truncation, Prefixes for queries/documents: not necessary, 2021 year.',\n",
       "  'license': 'apache-2.0',\n",
       "  'size_in_GB': 1.0,\n",
       "  'additional_files': [],\n",
       "  'dim': 768,\n",
       "  'tasks': {}},\n",
       " {'model': 'intfloat/multilingual-e5-large',\n",
       "  'sources': {'hf': 'qdrant/multilingual-e5-large-onnx',\n",
       "   'url': 'https://storage.googleapis.com/qdrant-fastembed/fast-multilingual-e5-large.tar.gz',\n",
       "   '_deprecated_tar_struct': True},\n",
       "  'model_file': 'model.onnx',\n",
       "  'description': 'Text embeddings, Unimodal (text), Multilingual (~100 languages), 512 input tokens truncation, Prefixes for queries/documents: necessary, 2024 year.',\n",
       "  'license': 'mit',\n",
       "  'size_in_GB': 2.24,\n",
       "  'additional_files': ['model.onnx_data'],\n",
       "  'dim': 1024,\n",
       "  'tasks': {}},\n",
       " {'model': 'jinaai/jina-embeddings-v3',\n",
       "  'sources': {'hf': 'jinaai/jina-embeddings-v3',\n",
       "   'url': None,\n",
       "   '_deprecated_tar_struct': False},\n",
       "  'model_file': 'onnx/model.onnx',\n",
       "  'description': 'Multi-task unimodal (text) embedding model, multi-lingual (~100), 1024 tokens truncation, and 8192 sequence length. Prefixes for queries/documents: not necessary, 2024 year.',\n",
       "  'license': 'cc-by-nc-4.0',\n",
       "  'size_in_GB': 2.29,\n",
       "  'additional_files': ['onnx/model.onnx_data'],\n",
       "  'dim': 1024,\n",
       "  'tasks': {'retrieval.query': 0,\n",
       "   'retrieval.passage': 1,\n",
       "   'separation': 2,\n",
       "   'classification': 3,\n",
       "   'text-matching': 4}}]"
      ]
     },
     "execution_count": 118,
     "metadata": {},
     "output_type": "execute_result"
    }
   ],
   "source": [
    "TextEmbedding.list_supported_models()"
   ]
  },
  {
   "cell_type": "code",
   "execution_count": 120,
   "id": "3502a247-6bd8-4bb2-b1c8-8a899261ad4a",
   "metadata": {},
   "outputs": [],
   "source": [
    "import requests \n",
    "\n",
    "docs_url = 'https://github.com/alexeygrigorev/llm-rag-workshop/raw/main/notebooks/documents.json'\n",
    "docs_response = requests.get(docs_url)\n",
    "documents_raw = docs_response.json()\n",
    "\n",
    "\n",
    "documents = []\n",
    "\n",
    "for course in documents_raw:\n",
    "    course_name = course['course']\n",
    "    if course_name != 'machine-learning-zoomcamp':\n",
    "        continue\n",
    "\n",
    "    for doc in course['documents']:\n",
    "        doc['course'] = course_name\n",
    "        documents.append(doc)"
   ]
  },
  {
   "cell_type": "code",
   "execution_count": 121,
   "id": "0c92ca36-9170-4a29-bd4e-e1f7ae85a658",
   "metadata": {},
   "outputs": [],
   "source": [
    "EMBEDDING_DIMENSIONALITY = 384\n",
    "model_handle = \"BAAI/bge-small-en\"\n",
    "collection_name = \"llm-zoomcamp-homework\""
   ]
  },
  {
   "cell_type": "code",
   "execution_count": 125,
   "id": "fb0442ab-6302-405a-88d2-319b5ab38b82",
   "metadata": {},
   "outputs": [
    {
     "data": {
      "text/plain": [
       "True"
      ]
     },
     "execution_count": 125,
     "metadata": {},
     "output_type": "execute_result"
    }
   ],
   "source": [
    "qdr_client.delete_collection(collection_name)"
   ]
  },
  {
   "cell_type": "code",
   "execution_count": 126,
   "id": "208fbf8f-c0c9-4db7-ab3c-85cd78391c6b",
   "metadata": {},
   "outputs": [
    {
     "data": {
      "text/plain": [
       "True"
      ]
     },
     "execution_count": 126,
     "metadata": {},
     "output_type": "execute_result"
    }
   ],
   "source": [
    "# Create the collection with specified vector parameters\n",
    "qdr_client.create_collection(\n",
    "    collection_name=collection_name,\n",
    "    vectors_config=models.VectorParams(\n",
    "        size=EMBEDDING_DIMENSIONALITY,  # Dimensionality of the vectors\n",
    "        distance=models.Distance.COSINE  # Distance metric for similarity search\n",
    "    )\n",
    ")"
   ]
  },
  {
   "cell_type": "code",
   "execution_count": 127,
   "id": "c5cb1f06-04c6-4395-b06f-bb8a96a4f60f",
   "metadata": {},
   "outputs": [],
   "source": [
    "points = []\n",
    "\n",
    "for i, doc in enumerate(documents):\n",
    "    text = doc['question'] + ' ' + doc['text']\n",
    "    vector = models.Document(text=text, model=model_handle)\n",
    "    point = models.PointStruct(\n",
    "        id=i,\n",
    "        vector=vector,\n",
    "        payload=doc\n",
    "    )\n",
    "    points.append(point)"
   ]
  },
  {
   "cell_type": "code",
   "execution_count": 128,
   "id": "e75feeba-5180-44d7-8176-abfd3a7378e3",
   "metadata": {},
   "outputs": [
    {
     "data": {
      "application/vnd.jupyter.widget-view+json": {
       "model_id": "708870f20f524aaeb85a9f0e70af7da9",
       "version_major": 2,
       "version_minor": 0
      },
      "text/plain": [
       "Fetching 5 files:   0%|          | 0/5 [00:00<?, ?it/s]"
      ]
     },
     "metadata": {},
     "output_type": "display_data"
    },
    {
     "data": {
      "application/vnd.jupyter.widget-view+json": {
       "model_id": "20d1be09569c468f87922d72434b9723",
       "version_major": 2,
       "version_minor": 0
      },
      "text/plain": [
       "special_tokens_map.json:   0%|          | 0.00/125 [00:00<?, ?B/s]"
      ]
     },
     "metadata": {},
     "output_type": "display_data"
    },
    {
     "data": {
      "application/vnd.jupyter.widget-view+json": {
       "model_id": "1471912c1e284e9a9786f408cf82e123",
       "version_major": 2,
       "version_minor": 0
      },
      "text/plain": [
       "tokenizer.json: 0.00B [00:00, ?B/s]"
      ]
     },
     "metadata": {},
     "output_type": "display_data"
    },
    {
     "data": {
      "application/vnd.jupyter.widget-view+json": {
       "model_id": "2691476d8ab04c1cb3ee3acf82cd5d57",
       "version_major": 2,
       "version_minor": 0
      },
      "text/plain": [
       "tokenizer_config.json:   0%|          | 0.00/366 [00:00<?, ?B/s]"
      ]
     },
     "metadata": {},
     "output_type": "display_data"
    },
    {
     "data": {
      "application/vnd.jupyter.widget-view+json": {
       "model_id": "ec525b10714442c68cc927c884d2d555",
       "version_major": 2,
       "version_minor": 0
      },
      "text/plain": [
       "config.json:   0%|          | 0.00/701 [00:00<?, ?B/s]"
      ]
     },
     "metadata": {},
     "output_type": "display_data"
    },
    {
     "data": {
      "application/vnd.jupyter.widget-view+json": {
       "model_id": "9b7e05f6351043bda4e657ea7c08bf9a",
       "version_major": 2,
       "version_minor": 0
      },
      "text/plain": [
       "model_optimized.onnx:   0%|          | 0.00/133M [00:00<?, ?B/s]"
      ]
     },
     "metadata": {},
     "output_type": "display_data"
    },
    {
     "data": {
      "text/plain": [
       "UpdateResult(operation_id=0, status=<UpdateStatus.COMPLETED: 'completed'>)"
      ]
     },
     "execution_count": 128,
     "metadata": {},
     "output_type": "execute_result"
    }
   ],
   "source": [
    "qdr_client.upsert(\n",
    "    collection_name=collection_name,\n",
    "    points=points\n",
    ")"
   ]
  },
  {
   "cell_type": "code",
   "execution_count": 135,
   "id": "339f5a11-7a90-4e76-8398-c320d4fccfa7",
   "metadata": {},
   "outputs": [],
   "source": [
    "def vector_search(query,course='machine-learning-zoomcamp', limit=1):\n",
    "    print('vector_search is used')\n",
    "    \n",
    "    query_points = qdr_client.query_points(\n",
    "        collection_name=collection_name,\n",
    "        query=models.Document(\n",
    "            text=query,\n",
    "            model=model_handle \n",
    "        ),\n",
    "        query_filter=models.Filter( \n",
    "            must=[\n",
    "                models.FieldCondition(\n",
    "                    key=\"course\",\n",
    "                    match=models.MatchValue(value=course)\n",
    "                )\n",
    "            ]\n",
    "        ),\n",
    "        limit=limit,\n",
    "        with_payload=True\n",
    "    )\n",
    "    \n",
    "    results = []\n",
    "    for point in query_points.points:\n",
    "        results.append(point)\n",
    "    return results"
   ]
  },
  {
   "cell_type": "code",
   "execution_count": 136,
   "id": "66d32700-b46f-4ded-8254-ef9049a15c93",
   "metadata": {},
   "outputs": [
    {
     "name": "stdout",
     "output_type": "stream",
     "text": [
      "vector_search is used\n"
     ]
    },
    {
     "data": {
      "text/plain": [
       "[ScoredPoint(id=14, version=0, score=0.8703172, payload={'text': 'Yes, you can. You won’t be able to submit some of the homeworks, but you can still take part in the course.\\nIn order to get a certificate, you need to submit 2 out of 3 course projects and review 3 peers’ Projects by the deadline. It means that if you join the course at the end of November and manage to work on two projects, you will still be eligible for a certificate.', 'section': 'General course-related questions', 'question': 'The course has already started. Can I still join it?', 'course': 'machine-learning-zoomcamp'}, vector=None, shard_key=None, order_value=None)]"
      ]
     },
     "execution_count": 136,
     "metadata": {},
     "output_type": "execute_result"
    }
   ],
   "source": [
    "vector_search('I just discovered the course. Can I join now?')"
   ]
  },
  {
   "cell_type": "code",
   "execution_count": null,
   "id": "9f34ec47-5b5b-4b58-8c60-9057fccc82fe",
   "metadata": {},
   "outputs": [],
   "source": []
  }
 ],
 "metadata": {
  "kernelspec": {
   "display_name": "Python 3",
   "language": "python",
   "name": "python3"
  },
  "language_info": {
   "codemirror_mode": {
    "name": "ipython",
    "version": 3
   },
   "file_extension": ".py",
   "mimetype": "text/x-python",
   "name": "python",
   "nbconvert_exporter": "python",
   "pygments_lexer": "ipython3",
   "version": "3.13.2"
  }
 },
 "nbformat": 4,
 "nbformat_minor": 5
}
