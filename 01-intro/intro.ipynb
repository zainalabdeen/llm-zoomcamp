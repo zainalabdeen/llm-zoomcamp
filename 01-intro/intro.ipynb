{
 "cells": [
  {
   "cell_type": "code",
   "execution_count": null,
   "id": "071e9361-30be-4f96-9d40-a3468568fbaa",
   "metadata": {},
   "outputs": [],
   "source": [
    "from elasticsearch import Elasticsearch\n",
    "from tqdm.auto import tqdm\n",
    "import requests\n",
    "from openai import OpenAI\n",
    "import tiktoken"
   ]
  },
  {
   "cell_type": "code",
   "execution_count": 3,
   "id": "7b1729fc-5ce0-4acb-a824-205452a21ea9",
   "metadata": {},
   "outputs": [
    {
     "data": {
      "text/plain": [
       "ObjectApiResponse({'name': 'b600c7454380', 'cluster_name': 'docker-cluster', 'cluster_uuid': 'ecuqdC8_T1-xBEICGnC2FA', 'version': {'number': '8.4.3', 'build_flavor': 'default', 'build_type': 'docker', 'build_hash': '42f05b9372a9a4a470db3b52817899b99a76ee73', 'build_date': '2022-10-04T07:17:24.662462378Z', 'build_snapshot': False, 'lucene_version': '9.3.0', 'minimum_wire_compatibility_version': '7.17.0', 'minimum_index_compatibility_version': '7.0.0'}, 'tagline': 'You Know, for Search'})"
      ]
     },
     "execution_count": 3,
     "metadata": {},
     "output_type": "execute_result"
    }
   ],
   "source": [
    "ai_client = OpenAI()\n",
    "es_client = Elasticsearch(\"http://127.0.0.1:9200\")\n",
    "es_client.info()"
   ]
  },
  {
   "cell_type": "code",
   "execution_count": 4,
   "id": "7b09d1c1-a829-468c-aca0-353fc5349d50",
   "metadata": {},
   "outputs": [],
   "source": [
    "def get_faq_data():\n",
    "    docs_url = 'https://github.com/DataTalksClub/llm-zoomcamp/blob/main/01-intro/documents.json?raw=1'\n",
    "    docs_response = requests.get(docs_url)\n",
    "    documents_raw = docs_response.json()\n",
    "    \n",
    "    documents = []\n",
    "    \n",
    "    for course in documents_raw:\n",
    "        course_name = course['course']\n",
    "    \n",
    "        for doc in course['documents']:\n",
    "            doc['course'] = course_name\n",
    "            documents.append(doc)\n",
    "    return documents"
   ]
  },
  {
   "cell_type": "code",
   "execution_count": 5,
   "id": "cffffc97-7eef-4563-82f2-ac96fe89a6c0",
   "metadata": {},
   "outputs": [],
   "source": [
    "def elastic_index(documents):\n",
    "    index_settings = {\n",
    "        \"settings\": {\n",
    "            \"number_of_shards\": 1,\n",
    "            \"number_of_replicas\": 0\n",
    "        },\n",
    "        \"mappings\": {\n",
    "            \"properties\": {\n",
    "                \"text\": {\"type\": \"text\"},\n",
    "                \"section\": {\"type\": \"text\"},\n",
    "                \"question\": {\"type\": \"text\"},\n",
    "                \"course\": {\"type\": \"keyword\"} \n",
    "            }\n",
    "        }\n",
    "    }\n",
    "    index_name = \"course_questions\"\n",
    "    es_client.indices.create(index=index_name, body=index_settings)\n",
    "    \n",
    "    for doc in tqdm(documents):\n",
    "        es_client.index(index=index_name, document=doc)"
   ]
  },
  {
   "cell_type": "code",
   "execution_count": 6,
   "id": "fd2e28be-d5b9-41b7-9e59-7a7dbe12d673",
   "metadata": {},
   "outputs": [],
   "source": [
    "def elastic_search(query,size=5):\n",
    "    search_query = {\n",
    "        \"size\": size,\n",
    "        \"query\": {\n",
    "            \"bool\": {\n",
    "                \"must\": {\n",
    "                    \"multi_match\": {\n",
    "                        \"query\": query,\n",
    "                        \"fields\": [\"question^4\", \"text\"],\n",
    "                        \"type\": \"best_fields\"\n",
    "                    }\n",
    "                },\n",
    "                \"filter\": {\n",
    "                    \"term\": {\n",
    "                        \"course\": \"machine-learning-zoomcamp\"\n",
    "                    }\n",
    "                }\n",
    "            }\n",
    "        }\n",
    "    }\n",
    "    index_name = \"course_questions\"\n",
    "    response = es_client.search(index=index_name, body=search_query)\n",
    "    result_docs = []\n",
    "\n",
    "    for hit in response[\"hits\"][\"hits\"]:\n",
    "        result_docs.append(hit[\"_source\"])\n",
    "    return result_docs"
   ]
  },
  {
   "cell_type": "code",
   "execution_count": 7,
   "id": "732ab656-680b-4ca2-9dc4-bb653e78d9b1",
   "metadata": {},
   "outputs": [],
   "source": [
    "query = \"How do copy a file to a Docker container?\""
   ]
  },
  {
   "cell_type": "markdown",
   "id": "a1e69918-ecf0-4b78-bb4a-70bdf269d2fb",
   "metadata": {},
   "source": [
    "elastic_search(query,3)"
   ]
  },
  {
   "cell_type": "code",
   "execution_count": 11,
   "id": "4c317994-a31c-41a9-be75-73ade70e22ad",
   "metadata": {},
   "outputs": [],
   "source": [
    "def build_prompt(query, search_results):\n",
    "    context = \"\"\n",
    "    context_template = \"\"\"\n",
    "Q: {question}\n",
    "A: {text}\n",
    "\"\"\".strip()\n",
    "\n",
    "    for doc in search_results:\n",
    "        context += context_template.format(question=doc[\"question\"],text=doc[\"text\"])\n",
    "        context += \"\\n\\n\"\n",
    "\n",
    "    prompt_template = \"\"\"\n",
    "You're a course teaching assistant. Answer the QUESTION based on the CONTEXT from the FAQ database.\n",
    "Use only the facts from the CONTEXT when answering the QUESTION.\n",
    "\n",
    "QUESTION: {question}\n",
    "\n",
    "CONTEXT:\n",
    "{context}\n",
    "\"\"\".strip()\n",
    "    prompt = prompt_template.format(question=query, context=context).strip()\n",
    "    return prompt"
   ]
  },
  {
   "cell_type": "code",
   "execution_count": 12,
   "id": "1f103007-3980-40f0-be4d-8084fa636bde",
   "metadata": {},
   "outputs": [
    {
     "data": {
      "text/plain": [
       "1446"
      ]
     },
     "execution_count": 12,
     "metadata": {},
     "output_type": "execute_result"
    }
   ],
   "source": [
    "len(build_prompt(query,elastic_search(query,3)))"
   ]
  },
  {
   "cell_type": "code",
   "execution_count": 27,
   "id": "004a2c7f-24d7-4c51-a7e8-057ad4049566",
   "metadata": {},
   "outputs": [],
   "source": [
    "def llm(prompt, model):\n",
    "    try:\n",
    "        chat_completion = ai_client.chat.completions.create(\n",
    "        messages=[\n",
    "            {\n",
    "                \"role\": \"user\",\n",
    "                \"content\": prompt,\n",
    "            }\n",
    "        ],\n",
    "        model=model,\n",
    "    )\n",
    "        return chat_completion.choices[0].message.content\n",
    "    except:\n",
    "        return None"
   ]
  },
  {
   "cell_type": "code",
   "execution_count": 28,
   "id": "e6262ddc-328f-4665-bb95-9f8b3a032d27",
   "metadata": {},
   "outputs": [],
   "source": [
    "search_results = elastic_search(query,3)\n",
    "prompt = build_prompt(query, search_results)\n",
    "llm(prompt, \"gpt-4o\")"
   ]
  },
  {
   "cell_type": "code",
   "execution_count": 30,
   "id": "f96dc936-aaa7-4948-8633-ec84c8cb8903",
   "metadata": {},
   "outputs": [],
   "source": [
    "encoding = tiktoken.encoding_for_model(\"gpt-4o\")"
   ]
  },
  {
   "cell_type": "code",
   "execution_count": 31,
   "id": "d2d204c0-3909-40e5-ae81-3c099fd25ca1",
   "metadata": {},
   "outputs": [
    {
     "data": {
      "text/plain": [
       "b\"You're\""
      ]
     },
     "execution_count": 31,
     "metadata": {},
     "output_type": "execute_result"
    }
   ],
   "source": [
    "encoding.decode_single_token_bytes(63842)"
   ]
  }
 ],
 "metadata": {
  "kernelspec": {
   "display_name": "Python 3 (ipykernel)",
   "language": "python",
   "name": "python3"
  },
  "language_info": {
   "codemirror_mode": {
    "name": "ipython",
    "version": 3
   },
   "file_extension": ".py",
   "mimetype": "text/x-python",
   "name": "python",
   "nbconvert_exporter": "python",
   "pygments_lexer": "ipython3",
   "version": "3.12.1"
  }
 },
 "nbformat": 4,
 "nbformat_minor": 5
}
