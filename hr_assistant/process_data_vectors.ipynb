{
 "cells": [
  {
   "cell_type": "code",
   "execution_count": null,
   "id": "037cf761-7dbc-446d-bfee-b7133e86197b",
   "metadata": {},
   "outputs": [],
   "source": [
    "from llama_index.core import Document, Settings\n",
    "from llama_index.vector_stores.qdrant import QdrantVectorStore\n",
    "from llama_index.core import StorageContext, VectorStoreIndex\n",
    "from llama_index.core.retrievers import VectorIndexRetriever\n",
    "from llama_index.embeddings.huggingface import HuggingFaceEmbedding\n",
    "from qdrant_client import QdrantClient\n",
    "import json\n",
    "from tqdm import tqdm\n",
    "import os"
   ]
  },
  {
   "cell_type": "code",
   "execution_count": null,
   "id": "3e5aadd1-3c95-47f5-8efb-6bf4b83dc60b",
   "metadata": {},
   "outputs": [],
   "source": [
    "# ---------- CONFIG ----------\n",
    "COLLECTION = \"saudi_labor_law\"\n",
    "EMBEDDING_DIM = 768\n",
    "DATA_DIR = \"data/labor_law\"\n",
    "JSON_PATH = os.path.join(DATA_DIR, \"labor_law_parsed.json\")"
   ]
  },
  {
   "cell_type": "code",
   "execution_count": null,
   "id": "e317cf4c",
   "metadata": {},
   "outputs": [],
   "source": [
    "# ---------- LOAD PROCESSED DATA ----------\n",
    "articles = {}\n",
    "with open(JSON_PATH, \"r\", encoding=\"utf-8\") as f:\n",
    "    articles = json.load(f)"
   ]
  },
  {
   "cell_type": "code",
   "execution_count": null,
   "id": "b3a798c0",
   "metadata": {},
   "outputs": [],
   "source": [
    "# ------------------------------------------------------\n",
    "# 6️⃣ Embedding + Qdrant Storage\n",
    "# ------------------------------------------------------"
   ]
  },
  {
   "cell_type": "code",
   "execution_count": null,
   "id": "16639d7f",
   "metadata": {},
   "outputs": [],
   "source": [
    "# ---------- SETUP EMBEDDING MODEL ----------\n",
    "embed_model = HuggingFaceEmbedding(model_name=\"intfloat/multilingual-e5-base\")\n",
    "Settings.embed_model = embed_model\n",
    "#Settings.embed_metadata = False  # we embed manually controlled header instead\n",
    "Settings.chunk_size = 5096  # or even 8192 if your system has RAM"
   ]
  },
  {
   "cell_type": "code",
   "execution_count": null,
   "id": "3e651e19",
   "metadata": {},
   "outputs": [],
   "source": [
    "print(\"🔗 Connecting to Qdrant...\")\n",
    "qdrant_client = QdrantClient(url=\"http://localhost:6333\")\n",
    "# Clean & create collection\n",
    "try:\n",
    "    qdrant_client.delete_collection(COLLECTION)\n",
    "except Exception:\n",
    "    pass"
   ]
  },
  {
   "cell_type": "code",
   "execution_count": null,
   "id": "82ee41d1",
   "metadata": {},
   "outputs": [],
   "source": [
    "qdrant_client.create_collection(\n",
    "    collection_name=COLLECTION,\n",
    "    vectors_config={\"size\": EMBEDDING_DIM, \"distance\": \"Cosine\"}\n",
    ")"
   ]
  },
  {
   "cell_type": "code",
   "execution_count": null,
   "id": "65e8de0e",
   "metadata": {},
   "outputs": [],
   "source": [
    "vector_store = QdrantVectorStore(client=qdrant_client, collection_name=COLLECTION)\n",
    "storage_context = StorageContext.from_defaults(vector_store=vector_store)"
   ]
  },
  {
   "cell_type": "code",
   "execution_count": null,
   "id": "7844ab7d",
   "metadata": {},
   "outputs": [],
   "source": [
    "\n",
    "# ---------- BUILD DOCUMENTS ----------\n",
    "docs = []\n",
    "\n",
    "for art in articles:\n",
    "    # Build short searchable header\n",
    "    header_parts = []\n",
    "    #if art.get(\"part_number\"):\n",
    "    #    header_parts.append(f\"الباب {art.get('part_number_ar','')} ({art.get('part_number','')}) {art.get('part_title_ar','')}\")\n",
    "    #if art.get(\"chapter_number\"):\n",
    "    #    header_parts.append(f\"الفصل {art['chapter_number_ar']} ({art.get('chapter_number','')}) {art.get('chapter_title_ar','')}\")\n",
    "    #if art.get(\"index\"):\n",
    "    #    header_parts.append(f\"{art['arabic_name']} ({art.get('index','')})\")\n",
    "\n",
    "    header_text = \"\\n\".join(header_parts)\n",
    "\n",
    "    # Embed Arabic content only (header + article body)\n",
    "    doc_text = f\"{header_text}\\n\\n{art['arabic_content']}\"\n",
    "\n",
    "    # Metadata for display and structured filtering\n",
    "    metadata = {\n",
    "        \"part_title\": art.get(\"part_title_ar\"),\n",
    "        \"part_number\": art.get(\"part_number\"),\n",
    "        \"chapter_title\": art.get(\"chapter_title_ar\"),\n",
    "        \"chapter_number\": art.get(\"chapter_number\"),\n",
    "        \"article_name\": art.get(\"article_name\"),\n",
    "        \"article_number_ar\": art.get(\"number_ar\"),\n",
    "        \"article_number\": art.get(\"index\"),\n",
    "        \"english_number\": art.get(\"english_number\"),\n",
    "        \"arabic\": art.get(\"arabic_content\", \"\"),\n",
    "        \"english\": art.get(\"english_content\", \"\")\n",
    "    }\n",
    " \n",
    "\n",
    "    docs.append(Document(text=doc_text, metadata=art))"
   ]
  },
  {
   "cell_type": "code",
   "execution_count": null,
   "id": "83621056",
   "metadata": {},
   "outputs": [],
   "source": [
    "# ---------- STEP 5: Build the index ----------\n",
    "# ---------- BUILD INDEX ----------\n",
    "print(f\"🔗 Embedding {len(docs)} articles (Arabic + structural header)...\")\n",
    "index = VectorStoreIndex.from_documents(docs, storage_context=storage_context)\n",
    "print(\"✅ Successfully indexed all articles into Qdrant!\")"
   ]
  },
  {
   "cell_type": "code",
   "execution_count": null,
   "id": "58a90460",
   "metadata": {},
   "outputs": [],
   "source": [
    "retriever = VectorIndexRetriever(index=index, similarity_top_k=3)\n",
    "queries = [\n",
    "    \"ما هي المادة 28؟\",\n",
    "    \"What does Article 23 say?\",\n",
    "    \"الفصل الثاني الإجازات\"\n",
    "]"
   ]
  },
  {
   "cell_type": "code",
   "execution_count": null,
   "id": "19ef66ca",
   "metadata": {},
   "outputs": [],
   "source": [
    "for q in queries:\n",
    "    print(f\"\\n🔍 Query: {q}\")\n",
    "    results = retriever.retrieve(q)\n",
    "    for r in results:\n",
    "        md = r.node.metadata\n",
    "        print(f\"📘 {md.get('article_name')} | {md.get('chapter_title')} |  {md.get('part_title_ar')}\")\n",
    "        print(f\"AR:  {md.get('index')}\")\n",
    "        print(f\"EN: {md.get('english_content')[:120]}...\\n\")"
   ]
  }
 ],
 "metadata": {
  "kernelspec": {
   "display_name": "Python 3",
   "language": "python",
   "name": "python3"
  },
  "language_info": {
   "codemirror_mode": {
    "name": "ipython",
    "version": 3
   },
   "file_extension": ".py",
   "mimetype": "text/x-python",
   "name": "python",
   "nbconvert_exporter": "python",
   "pygments_lexer": "ipython3",
   "version": "3.13.2"
  }
 },
 "nbformat": 4,
 "nbformat_minor": 5
}
