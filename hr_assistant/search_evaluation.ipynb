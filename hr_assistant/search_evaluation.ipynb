{
 "cells": [
  {
   "cell_type": "code",
   "execution_count": 82,
   "id": "d97d12f3",
   "metadata": {},
   "outputs": [],
   "source": [
    "import json\n",
    "from tqdm.notebook import tqdm\n",
    "import pandas as pd\n",
    "from llama_index.vector_stores.qdrant import QdrantVectorStore\n",
    "from llama_index.core import StorageContext, VectorStoreIndex\n",
    "from llama_index.embeddings.huggingface import HuggingFaceEmbedding\n",
    "from qdrant_client import QdrantClient\n",
    "from llama_index.core.retrievers import VectorIndexRetriever\n",
    "import numpy as np\n",
    "from rank_bm25 import BM25Okapi\n",
    "from sklearn.preprocessing import MinMaxScaler\n",
    "import matplotlib.pyplot as plt"
   ]
  },
  {
   "cell_type": "code",
   "execution_count": 83,
   "id": "83b2e00e",
   "metadata": {},
   "outputs": [],
   "source": [
    "# -----------------------------\n",
    "# CONFIGURATION\n",
    "# -----------------------------\n",
    "TOP_K = 5   # number of results to evaluate at\n",
    "ALPHA = 0.6 # weight for semantic scores in hybrid fusion"
   ]
  },
  {
   "cell_type": "code",
   "execution_count": 84,
   "id": "f3cd0d07",
   "metadata": {},
   "outputs": [],
   "source": [
    "# -----------------------------\n",
    "# METRIC FUNCTIONS\n",
    "# -----------------------------"
   ]
  },
  {
   "cell_type": "code",
   "execution_count": 85,
   "id": "487cb749",
   "metadata": {},
   "outputs": [],
   "source": [
    "def hit_rate_at_k(results, ground_truth, k):\n",
    "    \"\"\"1 if correct doc found in top-k\"\"\"\n",
    "    hits = [1 if gt in res[:k] else 0 for gt, res in zip(ground_truth, results)]\n",
    "    return np.mean(hits)\n",
    "\n",
    "def mrr_at_k(results, ground_truth, k):\n",
    "    \"\"\"Mean Reciprocal Rank\"\"\"\n",
    "    mrrs = []\n",
    "    for gt, res in zip(ground_truth, results):\n",
    "        if gt in res[:k]:\n",
    "            rank = res.index(gt) + 1\n",
    "            mrrs.append(1 / rank)\n",
    "        else:\n",
    "            mrrs.append(0)\n",
    "    return np.mean(mrrs)\n",
    "\n",
    "def recall_at_k(results, ground_truth, k):\n",
    "    \"\"\"Recall@K\"\"\"\n",
    "    recall = [1 if gt in res[:k] else 0 for gt, res in zip(ground_truth, results)]\n",
    "    return np.mean(recall)\n",
    "\n",
    "def ndcg_at_k(results, ground_truth, k):\n",
    "    \"\"\"Simple binary nDCG@K\"\"\"\n",
    "    ndcgs = []\n",
    "    for gt, res in zip(ground_truth, results):\n",
    "        if gt in res[:k]:\n",
    "            rank = res.index(gt)\n",
    "            dcg = 1 / np.log2(rank + 2)\n",
    "            idcg = 1.0\n",
    "            ndcgs.append(dcg / idcg)\n",
    "        else:\n",
    "            ndcgs.append(0)\n",
    "    return np.mean(ndcgs)"
   ]
  },
  {
   "cell_type": "code",
   "execution_count": 86,
   "id": "00bdc229",
   "metadata": {},
   "outputs": [],
   "source": [
    "##Qdrant(Semantic Search)"
   ]
  },
  {
   "cell_type": "code",
   "execution_count": null,
   "id": "70679fa6",
   "metadata": {},
   "outputs": [],
   "source": [
    "client = QdrantClient(url=\"http://localhost:6333\")\n",
    "COLLECTION = \"saudi_labor_law\"\n",
    "vector_store = QdrantVectorStore(client=client, collection_name=COLLECTION)\n",
    "storage_context = StorageContext.from_defaults(vector_store=vector_store)\n",
    "embed_model = HuggingFaceEmbedding(model_name=\"intfloat/multilingual-e5-base\")\n",
    "index = VectorStoreIndex.from_vector_store(\n",
    "    vector_store=vector_store,\n",
    "    storage_context=storage_context,\n",
    "    embed_model=embed_model\n",
    ")\n",
    "retriever = VectorIndexRetriever(index=index, similarity_top_k=TOP_K)"
   ]
  },
  {
   "cell_type": "code",
   "execution_count": 88,
   "id": "ee90606a",
   "metadata": {},
   "outputs": [],
   "source": [
    "### Hybrid Search ##########"
   ]
  },
  {
   "cell_type": "code",
   "execution_count": 89,
   "id": "a495ddd6",
   "metadata": {},
   "outputs": [],
   "source": [
    "class HybridRetriever:\n",
    "    def __init__(self, dense_retriever, documents, alpha=0.5):\n",
    "        self.dense = dense_retriever\n",
    "        self.docs = documents\n",
    "        self.alpha = alpha\n",
    "        self.bm25 = BM25Okapi([d[\"arabic_content\"].split() for d in documents])\n",
    "\n",
    "    def retrieve(self, query, top_k=5):\n",
    "        bm25_scores = self.bm25.get_scores(query.split())\n",
    "        bm25_scores = MinMaxScaler().fit_transform(bm25_scores.reshape(-1, 1)).flatten()\n",
    "\n",
    "        dense_results = self.dense.retrieve(query)\n",
    "        dense_scores = np.zeros(len(self.docs))\n",
    "        for r in dense_results:\n",
    "            dense_scores[(r.node.metadata['index'] - 1)] = r.score\n",
    "        dense_scores = MinMaxScaler().fit_transform(dense_scores.reshape(-1, 1)).flatten()\n",
    "\n",
    "        hybrid_scores = self.alpha * dense_scores + (1 - self.alpha) * bm25_scores\n",
    "        top_indices = np.argsort(hybrid_scores)[::-1][:top_k]\n",
    "        return list(top_indices)"
   ]
  },
  {
   "cell_type": "code",
   "execution_count": 90,
   "id": "80373f6e",
   "metadata": {},
   "outputs": [],
   "source": [
    "def evaluate_retrievers(index, documents, ground_truth_data):\n",
    "    # Load ground-truth question dataset\n",
    "    queries = [q[\"question\"] for q in ground_truth_data]\n",
    "    ground_truth_ids = [q[\"index\"] - 1 for q in ground_truth_data]\n",
    "\n",
    "    retriever = VectorIndexRetriever(index=index, similarity_top_k=TOP_K)\n",
    "    hybrid = HybridRetriever(retriever, documents, alpha=ALPHA)\n",
    "\n",
    "    dense_results, hybrid_results = [], []\n",
    "\n",
    "    print(\"\\n🚀 Running retrieval evaluation on\", len(queries), \"queries...\")\n",
    "    for query in tqdm(queries, desc=\"Evaluating\"):\n",
    "        dense_res = [(r.node.metadata['index'] - 1) for r in retriever.retrieve(query)]\n",
    "        hybrid_res = hybrid.retrieve(query, top_k=TOP_K)\n",
    "        dense_results.append(dense_res)\n",
    "        hybrid_results.append(hybrid_res)\n",
    "\n",
    "    # Metrics comparison\n",
    "    metrics = {\n",
    "        \"Hit@K\": hit_rate_at_k,\n",
    "        \"MRR@K\": mrr_at_k,\n",
    "        \"Recall@K\": recall_at_k,\n",
    "        \"nDCG@K\": ndcg_at_k,\n",
    "    }\n",
    "\n",
    "    results_summary = {}\n",
    "    print(\"\\n📊 RESULTS (Dense vs Hybrid)\")\n",
    "    for name, fn in metrics.items():\n",
    "        dense_score = fn(dense_results, ground_truth_ids, TOP_K)\n",
    "        hybrid_score = fn(hybrid_results, ground_truth_ids, TOP_K)\n",
    "        results_summary[name] = {\"Dense\": dense_score, \"Hybrid\": hybrid_score}\n",
    "        print(f\"{name:10} | Dense: {dense_score:.3f} | Hybrid: {hybrid_score:.3f}\")\n",
    "    return results_summary"
   ]
  },
  {
   "cell_type": "code",
   "execution_count": 91,
   "id": "9a393c83",
   "metadata": {},
   "outputs": [],
   "source": [
    "def plot_metrics(results_summary):\n",
    "    metrics = list(results_summary.keys())\n",
    "    dense_scores = [results_summary[m][\"Dense\"] for m in metrics]\n",
    "    hybrid_scores = [results_summary[m][\"Hybrid\"] for m in metrics]\n",
    "\n",
    "    x = np.arange(len(metrics))\n",
    "    width = 0.35\n",
    "\n",
    "    plt.figure(figsize=(8, 5))\n",
    "    plt.bar(x - width / 2, dense_scores, width, label=\"Dense\", color=\"#007ACC\")\n",
    "    plt.bar(x + width / 2, hybrid_scores, width, label=\"Hybrid\", color=\"#FFB000\")\n",
    "\n",
    "    plt.ylabel(\"Score\")\n",
    "    plt.title(\"Retrieval Performance Comparison\")\n",
    "    plt.xticks(x, metrics)\n",
    "    plt.legend()\n",
    "    plt.grid(axis=\"y\", linestyle=\"--\", alpha=0.6)\n",
    "    plt.tight_layout()\n",
    "    plt.show()"
   ]
  },
  {
   "cell_type": "code",
   "execution_count": 92,
   "id": "b6d964fa",
   "metadata": {},
   "outputs": [],
   "source": [
    "documents = json.load(open(\"data/labor_law/labor_law_parsed.json\", encoding=\"utf-8\"))\n",
    "df_ground_truth = pd.read_csv(\"data/ground-truth-data.csv\")\n",
    "ground_truth = df_ground_truth.to_dict(orient='records')"
   ]
  },
  {
   "cell_type": "code",
   "execution_count": 93,
   "id": "466a3beb",
   "metadata": {},
   "outputs": [
    {
     "name": "stdout",
     "output_type": "stream",
     "text": [
      "\n",
      "🚀 Running retrieval evaluation on 1245 queries...\n"
     ]
    },
    {
     "data": {
      "application/vnd.jupyter.widget-view+json": {
       "model_id": "025cbe070be24fb29b62a00e1f0b2b1b",
       "version_major": 2,
       "version_minor": 0
      },
      "text/plain": [
       "Evaluating:   0%|          | 0/1245 [00:00<?, ?it/s]"
      ]
     },
     "metadata": {},
     "output_type": "display_data"
    },
    {
     "name": "stdout",
     "output_type": "stream",
     "text": [
      "\n",
      "📊 RESULTS (Dense vs Hybrid)\n",
      "Hit@K      | Dense: 0.664 | Hybrid: 0.665\n",
      "MRR@K      | Dense: 0.515 | Hybrid: 0.478\n",
      "Recall@K   | Dense: 0.664 | Hybrid: 0.665\n",
      "nDCG@K     | Dense: 0.552 | Hybrid: 0.524\n"
     ]
    },
    {
     "data": {
      "image/png": "[encoded data removed]",
      "text/plain": [
       "<Figure size 800x500 with 1 Axes>"
      ]
     },
     "metadata": {},
     "output_type": "display_data"
    }
   ],
   "source": [
    "results_summary = evaluate_retrievers(\n",
    "    index=index,\n",
    "    documents=documents,\n",
    "    ground_truth_data=ground_truth\n",
    ")\n",
    "plot_metrics(results_summary)"
   ]
  }
 ],
 "metadata": {
  "kernelspec": {
   "display_name": "Python 3",
   "language": "python",
   "name": "python3"
  },
  "language_info": {
   "codemirror_mode": {
    "name": "ipython",
    "version": 3
   },
   "file_extension": ".py",
   "mimetype": "text/x-python",
   "name": "python",
   "nbconvert_exporter": "python",
   "pygments_lexer": "ipython3",
   "version": "3.13.2"
  }
 },
 "nbformat": 4,
 "nbformat_minor": 5
}
