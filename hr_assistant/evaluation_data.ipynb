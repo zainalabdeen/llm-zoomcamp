{
 "cells": [
  {
   "cell_type": "code",
   "execution_count": null,
   "id": "2b763b96",
   "metadata": {},
   "outputs": [],
   "source": [
    "import json\n",
    "from tqdm import tqdm\n",
    "import os\n",
    "import pandas as pd"
   ]
  },
  {
   "cell_type": "code",
   "execution_count": null,
   "id": "c04a6ace",
   "metadata": {},
   "outputs": [],
   "source": [
    "# ---------- CONFIG ----------\n",
    "COLLECTION = \"saudi_labor_law\"\n",
    "EMBEDDING_DIM = 768\n",
    "DATA_DIR = \"data/labor_law\"\n",
    "JSON_PATH = os.path.join(DATA_DIR, \"labor_law_parsed.json\")"
   ]
  },
  {
   "cell_type": "code",
   "execution_count": null,
   "id": "39697349",
   "metadata": {},
   "outputs": [],
   "source": [
    "# ---------- LOAD PROCESSED DATA ----------\n",
    "articles = []\n",
    "with open(JSON_PATH, \"r\", encoding=\"utf-8\") as f:\n",
    "    articles = json.load(f)"
   ]
  },
  {
   "cell_type": "code",
   "execution_count": null,
   "id": "08fd52f5",
   "metadata": {},
   "outputs": [],
   "source": [
    "prompt_template = \"\"\"\n",
    "You act as HR professional, employer, or employee who want to ask about the Saudi Labor Law (نظام العمل السعودي) .\n",
    "Formulate 5 questions that HR professional, employer, or employee might ask based on provided articles of \n",
    "Saudi Labor Law (نظام العمل السعودي) . The record should contain the answer to the questions which is the article, \n",
    "and the questions should be complete and not too short and in arabic.\n",
    "If possible, use as fewer words as possible from the record. \n",
    "use only our proived articles\n",
    "\n",
    "The record:\n",
    "\n",
    "article number: {arabic_name}\n",
    "article : {arabic_content}\n",
    "\n",
    "Provide the output in parsable JSON without using code blocks:\n",
    "\n",
    "[\"question1\", \"question2\", ..., \"question5\"]\n",
    "\"\"\".strip()"
   ]
  },
  {
   "cell_type": "code",
   "execution_count": null,
   "id": "2c418f17",
   "metadata": {},
   "outputs": [],
   "source": [
    "from openai import OpenAI\n",
    "client = OpenAI()"
   ]
  },
  {
   "cell_type": "code",
   "execution_count": null,
   "id": "00afc413",
   "metadata": {},
   "outputs": [],
   "source": [
    "def generate_questions(doc):\n",
    "    prompt = prompt_template.format(**doc)\n",
    "\n",
    "    response = client.chat.completions.create(\n",
    "        model='gpt-4o',\n",
    "        messages=[{\"role\": \"user\", \"content\": prompt}]\n",
    "    )\n",
    "\n",
    "    json_response = response.choices[0].message.content\n",
    "    return json_response"
   ]
  },
  {
   "cell_type": "code",
   "execution_count": null,
   "id": "c735aed1",
   "metadata": {},
   "outputs": [],
   "source": [
    "results = {}\n",
    "for doc in tqdm(articles): \n",
    "    doc_id = doc['index']\n",
    "    if doc_id in results:\n",
    "        continue\n",
    "\n",
    "    questions = generate_questions(doc)\n",
    "    results[doc_id] = questions"
   ]
  },
  {
   "cell_type": "code",
   "execution_count": null,
   "id": "735188f4",
   "metadata": {},
   "outputs": [],
   "source": [
    "parsed_resulst = {}\n",
    "\n",
    "for doc_id, json_questions in results.items():\n",
    "    parsed_resulst[doc_id] = json.loads(json_questions)"
   ]
  },
  {
   "cell_type": "code",
   "execution_count": null,
   "id": "f2678194",
   "metadata": {},
   "outputs": [],
   "source": [
    "for doc_id, questions in parsed_resulst.items():\n",
    "    if 'questions' in questions:\n",
    "        parsed_resulst[doc_id] = questions['questions']"
   ]
  },
  {
   "cell_type": "code",
   "execution_count": null,
   "id": "e45c61ef",
   "metadata": {},
   "outputs": [],
   "source": [
    "doc_index = {d['index']: d for d in articles}"
   ]
  },
  {
   "cell_type": "code",
   "execution_count": null,
   "id": "0e3f7d53",
   "metadata": {},
   "outputs": [],
   "source": [
    "\n",
    "\n",
    "final_results = []\n",
    "\n",
    "for doc_id, questions in parsed_resulst.items():\n",
    "    article_number = doc_index[doc_id]['article_number']\n",
    "    arabic_content = doc_index[doc_id]['arabic_content']\n",
    "    for q in questions:\n",
    "        final_results.append((q, article_number,arabic_content, doc_id))\n",
    "\n"
   ]
  },
  {
   "cell_type": "code",
   "execution_count": null,
   "id": "7f2a24b1",
   "metadata": {},
   "outputs": [],
   "source": [
    "df = pd.DataFrame(final_results, columns=['question', 'article_number','article_orig', 'index'])"
   ]
  },
  {
   "cell_type": "code",
   "execution_count": null,
   "id": "b50e6b2c",
   "metadata": {},
   "outputs": [],
   "source": [
    "df.to_csv('data/ground-truth-data.csv', index=False)"
   ]
  }
 ],
 "metadata": {
  "kernelspec": {
   "display_name": "Python 3",
   "language": "python",
   "name": "python3"
  },
  "language_info": {
   "codemirror_mode": {
    "name": "ipython",
    "version": 3
   },
   "file_extension": ".py",
   "mimetype": "text/x-python",
   "name": "python",
   "nbconvert_exporter": "python",
   "pygments_lexer": "ipython3",
   "version": "3.12.1"
  }
 },
 "nbformat": 4,
 "nbformat_minor": 5
}
