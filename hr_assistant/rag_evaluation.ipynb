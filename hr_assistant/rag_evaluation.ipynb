{
 "cells": [
  {
   "cell_type": "code",
   "execution_count": null,
   "id": "fd3ac4e5",
   "metadata": {},
   "outputs": [],
   "source": [
    "import re\n",
    "import json\n",
    "from openai import OpenAI\n",
    "from hybird_search import HybridRetriever\n",
    "import pandas as pd\n",
    "from tqdm.notebook import tqdm\n",
    "from sentence_transformers import SentenceTransformer"
   ]
  },
  {
   "cell_type": "code",
   "execution_count": null,
   "id": "48a8529f",
   "metadata": {},
   "outputs": [],
   "source": [
    "# ---------- Prepare ----------\n",
    "documents = json.load(open(\"data/labor_law/labor_law_parsed.json\", encoding=\"utf-8\"))\n",
    "df_ground_truth = pd.read_csv(\"data/ground-truth-data.csv\")\n",
    "ground_truth = df_ground_truth.to_dict(orient='records')\n",
    "hybrid = HybridRetriever(documents)"
   ]
  },
  {
   "cell_type": "code",
   "execution_count": 111,
   "id": "2f8c4a1f",
   "metadata": {},
   "outputs": [
    {
     "data": {
      "application/vnd.jupyter.widget-view+json": {
       "model_id": "08b3dadeba104adcb686614a7f77f4af",
       "version_major": 2,
       "version_minor": 0
      },
      "text/plain": [
       "modules.json:   0%|          | 0.00/387 [00:00<?, ?B/s]"
      ]
     },
     "metadata": {},
     "output_type": "display_data"
    },
    {
     "data": {
      "application/vnd.jupyter.widget-view+json": {
       "model_id": "a09b356e7f854fb08f56001b2e5e2fdd",
       "version_major": 2,
       "version_minor": 0
      },
      "text/plain": [
       "README.md: 0.00B [00:00, ?B/s]"
      ]
     },
     "metadata": {},
     "output_type": "display_data"
    },
    {
     "data": {
      "application/vnd.jupyter.widget-view+json": {
       "model_id": "a7b90d5e14294d8980bcadcafea06884",
       "version_major": 2,
       "version_minor": 0
      },
      "text/plain": [
       "sentence_bert_config.json:   0%|          | 0.00/57.0 [00:00<?, ?B/s]"
      ]
     },
     "metadata": {},
     "output_type": "display_data"
    },
    {
     "data": {
      "application/vnd.jupyter.widget-view+json": {
       "model_id": "cb6fb52f09034f28bb8c7d779a33fbec",
       "version_major": 2,
       "version_minor": 0
      },
      "text/plain": [
       "config.json:   0%|          | 0.00/694 [00:00<?, ?B/s]"
      ]
     },
     "metadata": {},
     "output_type": "display_data"
    },
    {
     "data": {
      "application/vnd.jupyter.widget-view+json": {
       "model_id": "b16fa5261384448a8e64ecab8653d883",
       "version_major": 2,
       "version_minor": 0
      },
      "text/plain": [
       "model.safetensors:   0%|          | 0.00/1.11G [00:00<?, ?B/s]"
      ]
     },
     "metadata": {},
     "output_type": "display_data"
    },
    {
     "data": {
      "application/vnd.jupyter.widget-view+json": {
       "model_id": "52240facba3c462d92c713a3f38c8865",
       "version_major": 2,
       "version_minor": 0
      },
      "text/plain": [
       "tokenizer_config.json:   0%|          | 0.00/418 [00:00<?, ?B/s]"
      ]
     },
     "metadata": {},
     "output_type": "display_data"
    },
    {
     "data": {
      "application/vnd.jupyter.widget-view+json": {
       "model_id": "d0176143524c427c81f526caece73a0b",
       "version_major": 2,
       "version_minor": 0
      },
      "text/plain": [
       "sentencepiece.bpe.model:   0%|          | 0.00/5.07M [00:00<?, ?B/s]"
      ]
     },
     "metadata": {},
     "output_type": "display_data"
    },
    {
     "data": {
      "application/vnd.jupyter.widget-view+json": {
       "model_id": "376ffad153f24494a4f12fdee04ab268",
       "version_major": 2,
       "version_minor": 0
      },
      "text/plain": [
       "tokenizer.json:   0%|          | 0.00/17.1M [00:00<?, ?B/s]"
      ]
     },
     "metadata": {},
     "output_type": "display_data"
    },
    {
     "data": {
      "application/vnd.jupyter.widget-view+json": {
       "model_id": "5a60b9c64ca648549ff1f4c6b30b239b",
       "version_major": 2,
       "version_minor": 0
      },
      "text/plain": [
       "special_tokens_map.json:   0%|          | 0.00/280 [00:00<?, ?B/s]"
      ]
     },
     "metadata": {},
     "output_type": "display_data"
    },
    {
     "data": {
      "application/vnd.jupyter.widget-view+json": {
       "model_id": "4903c0ad58b84bea93333694db338e85",
       "version_major": 2,
       "version_minor": 0
      },
      "text/plain": [
       "config.json:   0%|          | 0.00/200 [00:00<?, ?B/s]"
      ]
     },
     "metadata": {},
     "output_type": "display_data"
    }
   ],
   "source": [
    "\n",
    "model_name = 'intfloat/multilingual-e5-base'\n",
    "cosin_model = SentenceTransformer(model_name)"
   ]
  },
  {
   "cell_type": "code",
   "execution_count": 84,
   "id": "2a737a99",
   "metadata": {},
   "outputs": [],
   "source": [
    "doc_idx = {d['index']: d for d in documents}"
   ]
  },
  {
   "cell_type": "code",
   "execution_count": 85,
   "id": "d1a63175",
   "metadata": {},
   "outputs": [],
   "source": [
    "def highlight_articles(text: str):\n",
    "    return re.sub(r\"(المادة\\s+[^\\s،.]+|Article\\s+\\d+)\", r\"**\\1**\", text)"
   ]
  },
  {
   "cell_type": "code",
   "execution_count": 87,
   "id": "a71599e9",
   "metadata": {},
   "outputs": [],
   "source": [
    "# ---------- Core Answer ----------\n",
    "def generate_answer(query: str, context: str, api_key: str, model : str) -> str:\n",
    "    \"\"\"Generate an answer using a per-user OpenAI API key.\"\"\"\n",
    "    client = OpenAI(api_key=api_key)\n",
    "\n",
    "    prompt = f\"\"\"أنت مساعد ذكي متخصص في نظام العمل السعودي.\n",
    "    اعتمد فقط على نصوص المادة أدناه للإجابة على السؤال بدقة وبالعربية.\n",
    "\n",
    "    نصوص المادة:\n",
    "    \\\"\\\"\\\"{context}\\\"\\\"\\\"\n",
    "\n",
    "    السؤال: {query}\n",
    "\n",
    "    الإجابة:\"\"\"\n",
    "\n",
    "    response = client.chat.completions.create(\n",
    "        model=model,\n",
    "        messages=[{\"role\": \"user\", \"content\": prompt}],\n",
    "    )\n",
    "    answer = response.choices[0].message.content.strip()\n",
    "    return highlight_articles(answer)\n"
   ]
  },
  {
   "cell_type": "code",
   "execution_count": 88,
   "id": "07e49233",
   "metadata": {},
   "outputs": [],
   "source": [
    "# ---------- Main Entry ----------\n",
    "def llm(query: str, api_key: str, model : str):\n",
    "    \"\"\"Answer a policy question, optionally using employee data and user-provided key.\"\"\"\n",
    "\n",
    "    retriever = hybrid\n",
    "\n",
    "    # Retrieve context\n",
    "    results = retriever.retrieve(query)\n",
    "    if not results:\n",
    "        msg = \"❌ لم يتم العثور على مواد ذات صلة.\"\n",
    "        return msg\n",
    "\n",
    "    context = \"\\n\\n\".join(r[\"content\"] for r in results)\n",
    "    answer = generate_answer(query, context, api_key , model)\n",
    "    return answer"
   ]
  },
  {
   "cell_type": "code",
   "execution_count": 89,
   "id": "8d4a565f",
   "metadata": {},
   "outputs": [],
   "source": [
    "model = \"gpt-4o-mini\"\n",
    "gpt_4o_answers = {}"
   ]
  },
  {
   "cell_type": "code",
   "execution_count": 91,
   "id": "700bc127",
   "metadata": {},
   "outputs": [
    {
     "data": {
      "application/vnd.jupyter.widget-view+json": {
       "model_id": "4da9b10501fc4ea0bebde092c38b0c76",
       "version_major": 2,
       "version_minor": 0
      },
      "text/plain": [
       "  0%|          | 0/1245 [00:00<?, ?it/s]"
      ]
     },
     "metadata": {},
     "output_type": "display_data"
    }
   ],
   "source": [
    "for i, rec in enumerate(tqdm(ground_truth)):\n",
    "    if i in gpt_4o_answers:\n",
    "        continue\n",
    "\n",
    "    answer_llm = llm(rec['question'],API_KEY,model)\n",
    "    answer_orig = rec['article_orig']\n",
    "\n",
    "    gpt_4o_answers[i] = {\n",
    "        'answer_llm': answer_llm,\n",
    "        'answer_orig': answer_orig,\n",
    "        'index': rec['index'],\n",
    "        'article_number': rec['article_number']\n",
    "    }"
   ]
  },
  {
   "cell_type": "code",
   "execution_count": 92,
   "id": "9a0ba7e3",
   "metadata": {},
   "outputs": [],
   "source": [
    "results_gpt4o = [None] * len(ground_truth)\n",
    "\n",
    "for i, val in gpt_4o_answers.items():\n",
    "    results_gpt4o[i] = val.copy()\n",
    "    results_gpt4o[i].update(ground_truth[i])"
   ]
  },
  {
   "cell_type": "code",
   "execution_count": 93,
   "id": "424da99c",
   "metadata": {},
   "outputs": [],
   "source": [
    "df_gpt4o = pd.DataFrame(results_gpt4o)"
   ]
  },
  {
   "cell_type": "code",
   "execution_count": 94,
   "id": "0ff97c3b",
   "metadata": {},
   "outputs": [],
   "source": [
    "df_gpt4o.to_csv('data/results-gpt4o.csv', index=False)"
   ]
  },
  {
   "cell_type": "code",
   "execution_count": 98,
   "id": "b9496f6c",
   "metadata": {},
   "outputs": [],
   "source": [
    "gpt_3o_model = \"gpt-3.5-turbo\"\n",
    "gpt_3o_answers = {}"
   ]
  },
  {
   "cell_type": "code",
   "execution_count": 99,
   "id": "4af9d87b",
   "metadata": {},
   "outputs": [
    {
     "data": {
      "application/vnd.jupyter.widget-view+json": {
       "model_id": "0754f0c176cb4cc6ab4f601fd87373bd",
       "version_major": 2,
       "version_minor": 0
      },
      "text/plain": [
       "  0%|          | 0/1245 [00:00<?, ?it/s]"
      ]
     },
     "metadata": {},
     "output_type": "display_data"
    }
   ],
   "source": [
    "for i, rec in enumerate(tqdm(ground_truth)):\n",
    "    if i in gpt_3o_answers:\n",
    "        continue\n",
    "\n",
    "    answer_llm = llm(rec['question'],API_KEY,gpt_3o_model)\n",
    "    answer_orig = rec['article_orig']\n",
    "\n",
    "    gpt_3o_answers[i] = {\n",
    "        'answer_llm': answer_llm,\n",
    "        'answer_orig': answer_orig,\n",
    "        'index': rec['index'],\n",
    "        'article_number': rec['article_number']\n",
    "    }"
   ]
  },
  {
   "cell_type": "code",
   "execution_count": 102,
   "id": "92ca2e0a",
   "metadata": {},
   "outputs": [],
   "source": [
    "results_gpt35 = [None] * len(ground_truth)\n",
    "\n",
    "for i, val in gpt_3o_answers.items():\n",
    "    results_gpt35[i] = val.copy()\n",
    "    results_gpt35[i].update(ground_truth[i])\n",
    "df_gpt35 = pd.DataFrame(results_gpt35)\n",
    "df_gpt35.to_csv('data/results-gpt35.csv', index=False)"
   ]
  },
  {
   "cell_type": "markdown",
   "id": "7d57041f",
   "metadata": {},
   "source": [
    "## Cosine similarity"
   ]
  },
  {
   "cell_type": "code",
   "execution_count": 112,
   "id": "057f7e24",
   "metadata": {},
   "outputs": [],
   "source": [
    "def compute_similarity(record):\n",
    "    answer_orig = record['answer_orig']\n",
    "    answer_llm = record['answer_llm']\n",
    "    \n",
    "    v_llm = cosin_model.encode(answer_llm)\n",
    "    v_orig = cosin_model.encode(answer_orig)\n",
    "    \n",
    "    return v_llm.dot(v_orig)"
   ]
  },
  {
   "cell_type": "markdown",
   "id": "8e3f6a93",
   "metadata": {},
   "source": [
    "gpt-4o-mini"
   ]
  },
  {
   "cell_type": "code",
   "execution_count": 114,
   "id": "0d14323f",
   "metadata": {},
   "outputs": [],
   "source": [
    "results_gpt4o = df_gpt4o.to_dict(orient='records')"
   ]
  },
  {
   "cell_type": "code",
   "execution_count": 115,
   "id": "c07e73ad",
   "metadata": {},
   "outputs": [
    {
     "data": {
      "application/vnd.jupyter.widget-view+json": {
       "model_id": "f4ad1c9541dd45209f958d8c648519d1",
       "version_major": 2,
       "version_minor": 0
      },
      "text/plain": [
       "  0%|          | 0/1245 [00:00<?, ?it/s]"
      ]
     },
     "metadata": {},
     "output_type": "display_data"
    }
   ],
   "source": [
    "similarity = []\n",
    "\n",
    "for record in tqdm(results_gpt4o):\n",
    "    sim = compute_similarity(record)\n",
    "    similarity.append(sim)"
   ]
  },
  {
   "cell_type": "code",
   "execution_count": 116,
   "id": "9913055c",
   "metadata": {},
   "outputs": [
    {
     "data": {
      "text/plain": [
       "count    1245.000000\n",
       "mean        0.862157\n",
       "std         0.040849\n",
       "min         0.727516\n",
       "25%         0.838518\n",
       "50%         0.861274\n",
       "75%         0.884288\n",
       "max         0.995090\n",
       "Name: cosine, dtype: float64"
      ]
     },
     "execution_count": 116,
     "metadata": {},
     "output_type": "execute_result"
    }
   ],
   "source": [
    "df_gpt4o['cosine'] = similarity\n",
    "df_gpt4o['cosine'].describe()"
   ]
  },
  {
   "cell_type": "markdown",
   "id": "8a988d38",
   "metadata": {},
   "source": [
    "gpt-3.5-turbo"
   ]
  },
  {
   "cell_type": "code",
   "execution_count": 117,
   "id": "607382c4",
   "metadata": {},
   "outputs": [
    {
     "data": {
      "application/vnd.jupyter.widget-view+json": {
       "model_id": "1db5532a3f4d42c5be3b7d3bc8996388",
       "version_major": 2,
       "version_minor": 0
      },
      "text/plain": [
       "  0%|          | 0/1245 [00:00<?, ?it/s]"
      ]
     },
     "metadata": {},
     "output_type": "display_data"
    }
   ],
   "source": [
    "results_gpt35 = df_gpt35.to_dict(orient='records')\n",
    "\n",
    "similarity_35 = []\n",
    "\n",
    "for record in tqdm(results_gpt35):\n",
    "    sim = compute_similarity(record)\n",
    "    similarity_35.append(sim)"
   ]
  },
  {
   "cell_type": "markdown",
   "id": "e65a9f32",
   "metadata": {},
   "source": []
  },
  {
   "cell_type": "code",
   "execution_count": 118,
   "id": "3296dd5f",
   "metadata": {},
   "outputs": [
    {
     "data": {
      "text/plain": [
       "count    1245.000000\n",
       "mean        0.857329\n",
       "std         0.041789\n",
       "min         0.715492\n",
       "25%         0.831163\n",
       "50%         0.857199\n",
       "75%         0.884257\n",
       "max         0.995493\n",
       "Name: cosine, dtype: float64"
      ]
     },
     "execution_count": 118,
     "metadata": {},
     "output_type": "execute_result"
    }
   ],
   "source": [
    "df_gpt35['cosine'] = similarity_35\n",
    "df_gpt35['cosine'].describe()"
   ]
  },
  {
   "cell_type": "code",
   "execution_count": 121,
   "id": "327eb3b0",
   "metadata": {},
   "outputs": [],
   "source": [
    "import matplotlib.pyplot as plt\n",
    "import seaborn as sns"
   ]
  },
  {
   "cell_type": "code",
   "execution_count": 123,
   "id": "d0f16246",
   "metadata": {},
   "outputs": [
    {
     "name": "stderr",
     "output_type": "stream",
     "text": [
      "C:\\Users\\zaina\\AppData\\Local\\Temp\\ipykernel_20280\\18041136.py:3: UserWarning: \n",
      "\n",
      "`distplot` is a deprecated function and will be removed in seaborn v0.14.0.\n",
      "\n",
      "Please adapt your code to use either `displot` (a figure-level function with\n",
      "similar flexibility) or `histplot` (an axes-level function for histograms).\n",
      "\n",
      "For a guide to updating your code to use the new functions, please see\n",
      "https://gist.github.com/mwaskom/de44147ed2974457ad6372750bbe5751\n",
      "\n",
      "  sns.distplot(df_gpt4o['cosine'], label='4o-mini')\n",
      "C:\\Users\\zaina\\AppData\\Local\\Temp\\ipykernel_20280\\18041136.py:4: UserWarning: \n",
      "\n",
      "`distplot` is a deprecated function and will be removed in seaborn v0.14.0.\n",
      "\n",
      "Please adapt your code to use either `displot` (a figure-level function with\n",
      "similar flexibility) or `histplot` (an axes-level function for histograms).\n",
      "\n",
      "For a guide to updating your code to use the new functions, please see\n",
      "https://gist.github.com/mwaskom/de44147ed2974457ad6372750bbe5751\n",
      "\n",
      "  sns.distplot(df_gpt35['cosine'], label='35o-turbo')\n"
     ]
    },
    {
     "data": {
      "text/plain": [
       "<matplotlib.legend.Legend at 0x23865d36710>"
      ]
     },
     "execution_count": 123,
     "metadata": {},
     "output_type": "execute_result"
    },
    {
     "data": {
      "image/png": "[encoded data removed]",
      "text/plain": [
       "<Figure size 640x480 with 1 Axes>"
      ]
     },
     "metadata": {},
     "output_type": "display_data"
    }
   ],
   "source": [
    "# sns.distplot(df_gpt35['cosine'], label='3.5')\n",
    "\n",
    "sns.distplot(df_gpt4o['cosine'], label='4o-mini')\n",
    "sns.distplot(df_gpt35['cosine'], label='35o-turbo')\n",
    "\n",
    "plt.title(\"RAG LLM performance\")\n",
    "plt.xlabel(\"A->Q->A' Cosine Similarity\")\n",
    "plt.legend()"
   ]
  },
  {
   "cell_type": "code",
   "execution_count": null,
   "id": "19849b7d",
   "metadata": {},
   "outputs": [],
   "source": []
  }
 ],
 "metadata": {
  "kernelspec": {
   "display_name": "Python 3",
   "language": "python",
   "name": "python3"
  },
  "language_info": {
   "codemirror_mode": {
    "name": "ipython",
    "version": 3
   },
   "file_extension": ".py",
   "mimetype": "text/x-python",
   "name": "python",
   "nbconvert_exporter": "python",
   "pygments_lexer": "ipython3",
   "version": "3.13.2"
  }
 },
 "nbformat": 4,
 "nbformat_minor": 5
}
