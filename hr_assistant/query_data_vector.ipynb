{
 "cells": [
  {
   "cell_type": "code",
   "execution_count": null,
   "id": "df1defb8",
   "metadata": {},
   "outputs": [],
   "source": [
    "from llama_index.vector_stores.qdrant import QdrantVectorStore\n",
    "from llama_index.core import StorageContext, VectorStoreIndex\n",
    "from llama_index.embeddings.huggingface import HuggingFaceEmbedding\n",
    "from qdrant_client import QdrantClient\n",
    "from llama_index.core.retrievers import VectorIndexRetriever\n",
    "import re"
   ]
  },
  {
   "cell_type": "code",
   "execution_count": null,
   "id": "9bc1b91c",
   "metadata": {},
   "outputs": [],
   "source": [
    "# ---------- CONNECT TO QDRANT ----------\n",
    "client = QdrantClient(url=\"http://localhost:6333\")"
   ]
  },
  {
   "cell_type": "code",
   "execution_count": null,
   "id": "08dd58ae",
   "metadata": {},
   "outputs": [],
   "source": [
    "# ---------- CONFIG ----------\n",
    "COLLECTION = \"saudi_labor_law\""
   ]
  },
  {
   "cell_type": "code",
   "execution_count": null,
   "id": "5dac4384",
   "metadata": {},
   "outputs": [],
   "source": [
    "vector_store = QdrantVectorStore(client=client, collection_name=COLLECTION)\n",
    "storage_context = StorageContext.from_defaults(vector_store=vector_store)"
   ]
  },
  {
   "cell_type": "code",
   "execution_count": null,
   "id": "b8e3c497",
   "metadata": {},
   "outputs": [],
   "source": [
    "# ---------- LOAD EXISTING INDEX ----------\n",
    "embed_model = HuggingFaceEmbedding(model_name=\"intfloat/multilingual-e5-base\")\n",
    "index = VectorStoreIndex.from_vector_store(\n",
    "    vector_store=vector_store,\n",
    "    storage_context=storage_context,\n",
    "    embed_model=embed_model\n",
    ")"
   ]
  },
  {
   "cell_type": "code",
   "execution_count": null,
   "id": "599f94aa",
   "metadata": {},
   "outputs": [],
   "source": [
    "# ---------- CREATE RETRIEVER ----------\n",
    "retriever = VectorIndexRetriever(index=index, similarity_top_k=5)"
   ]
  },
  {
   "cell_type": "code",
   "execution_count": null,
   "id": "03496dc3",
   "metadata": {},
   "outputs": [],
   "source": [
    "def detect_lang(text):\n",
    "    return \"ar\" if re.search(r'[\\u0600-\\u06FF]', text) else \"en\"\n",
    "\n",
    "def answer_query_auto(query: str):\n",
    "    lang = detect_lang(query)\n",
    "    results = retriever.retrieve(query)\n",
    "\n",
    "    print(f\"\\n🔍 Query ({'Arabic' if lang=='ar' else 'English'}): {query}\")\n",
    "    for rank, r in enumerate(results, start=1):\n",
    "        md = r.node.metadata\n",
    "\n",
    "        print(f\"\\n--- Result {rank} | {md.get('article_name', '')}\")\n",
    "        if lang == \"ar\":\n",
    "            print(f\"📘 {md.get('arabic_name')} | {md.get('chapter_title_ar')} |  {md.get('part_title_ar')}\")\n",
    "            print(f\"AR:  {md.get('arabic_content')}\")\n",
    "            print(f\"EN: {md.get('english_content')[:120]}...\\n\")\n",
    "        else:\n",
    "            print(f\"📘 {md.get('arabic_name')} | {md.get('chapter_title_ar')} |  {md.get('part_title_ar')}\")\n",
    "            print(f\"AR:  {md.get('arabic_content')}\")\n",
    "            print(f\"EN: {md.get('english_content')}...\\n\")"
   ]
  },
  {
   "cell_type": "code",
   "execution_count": null,
   "id": "a7ba5103",
   "metadata": {},
   "outputs": [],
   "source": [
    "answer_query_auto(\"What does Article 23 say?\")"
   ]
  },
  {
   "cell_type": "code",
   "execution_count": null,
   "id": "5791d088",
   "metadata": {},
   "outputs": [],
   "source": [
    "answer_query_auto(\" المادة العشرين \")"
   ]
  },
  {
   "cell_type": "code",
   "execution_count": null,
   "id": "c550c812",
   "metadata": {},
   "outputs": [],
   "source": [
    "answer_query_auto(\"في 5 سنوات كم يستحق العامل رصيد الإجازات\")"
   ]
  },
  {
   "cell_type": "code",
   "execution_count": null,
   "id": "70fe9aff",
   "metadata": {},
   "outputs": [],
   "source": [
    "answer_query_auto(\" أجر اضافي\")"
   ]
  },
  {
   "cell_type": "code",
   "execution_count": null,
   "id": "33114e50",
   "metadata": {},
   "outputs": [],
   "source": []
  }
 ],
 "metadata": {
  "kernelspec": {
   "display_name": "Python 3",
   "language": "python",
   "name": "python3"
  },
  "language_info": {
   "codemirror_mode": {
    "name": "ipython",
    "version": 3
   },
   "file_extension": ".py",
   "mimetype": "text/x-python",
   "name": "python",
   "nbconvert_exporter": "python",
   "pygments_lexer": "ipython3",
   "version": "3.13.2"
  }
 },
 "nbformat": 4,
 "nbformat_minor": 5
}
